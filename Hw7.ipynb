{
 "cells": [
  {
   "cell_type": "code",
   "execution_count": 146,
   "id": "df18378c-95c1-456a-a94d-706f0e5917f6",
   "metadata": {},
   "outputs": [],
   "source": [
    "from surprise import SVD, SVDpp, NMF, Dataset, accuracy\n",
    "from surprise.model_selection import GridSearchCV, cross_validate, train_test_split\n",
    "import pandas as pd"
   ]
  },
  {
   "cell_type": "markdown",
   "id": "a6fca0fe-86a6-4703-8903-b9304357c550",
   "metadata": {},
   "source": [
    "## Завантажимо датасет"
   ]
  },
  {
   "cell_type": "code",
   "execution_count": 13,
   "id": "9938d03e-801d-4f95-88be-1eda43878d0a",
   "metadata": {},
   "outputs": [],
   "source": [
    "data = Dataset.load_builtin('ml-100k')"
   ]
  },
  {
   "cell_type": "markdown",
   "id": "8e6377b4-01a5-40be-9cfe-55a55f9175a0",
   "metadata": {},
   "source": [
    "## Розділимо на тренувальний та тестовий набір"
   ]
  },
  {
   "cell_type": "code",
   "execution_count": 118,
   "id": "ed3f8e22-0c0e-4250-b3a4-f3b0cc7d7c06",
   "metadata": {},
   "outputs": [],
   "source": [
    "trainset, testset = train_test_split(data, random_state=42)"
   ]
  },
  {
   "cell_type": "markdown",
   "id": "6d73b5c3-d4bb-418b-acdf-4200cd57ae85",
   "metadata": {},
   "source": [
    "## Функція для порівняння перших 10 правдивих результатів та передбачуваних"
   ]
  },
  {
   "cell_type": "code",
   "execution_count": 134,
   "id": "49a1f634-114b-4bfe-bead-c5aaf3af88c1",
   "metadata": {},
   "outputs": [],
   "source": [
    "def test_model(model, testset):\n",
    "    predictions = model.test(testset)\n",
    "    for i, prediction in enumerate(predictions):\n",
    "        print(f\"User: {prediction.uid}, Item: {prediction.iid}, \"\n",
    "              f\"True rating: {prediction.r_ui}, Predicted rating: {round(prediction.est, 2)}\")\n",
    "        if i == 9:\n",
    "            break"
   ]
  },
  {
   "cell_type": "markdown",
   "id": "0603ea7c-95fb-4df2-a3c3-21f79b325084",
   "metadata": {},
   "source": [
    "## Тренуємо модель SVD на крос-валідації зі стандартними параметрами та перевіряємо точність результатів"
   ]
  },
  {
   "cell_type": "code",
   "execution_count": 122,
   "id": "92cf57a2-8315-476b-9ac3-28c9521a3fad",
   "metadata": {},
   "outputs": [
    {
     "name": "stdout",
     "output_type": "stream",
     "text": [
      "Evaluating RMSE, MAE of algorithm SVD on 5 split(s).\n",
      "\n",
      "                  Fold 1  Fold 2  Fold 3  Fold 4  Fold 5  Mean    Std     \n",
      "RMSE (testset)    0.9354  0.9360  0.9303  0.9363  0.9441  0.9364  0.0044  \n",
      "MAE (testset)     0.7372  0.7373  0.7346  0.7397  0.7409  0.7380  0.0022  \n",
      "Fit time          0.80    0.81    0.81    0.81    0.81    0.81    0.01    \n",
      "Test time         0.09    0.18    0.09    0.18    0.09    0.13    0.04    \n"
     ]
    }
   ],
   "source": [
    "svd = SVD()\n",
    "svd_results = cross_validate(svd, data, measures=['RMSE', 'MAE'], cv=5, verbose=True)"
   ]
  },
  {
   "cell_type": "code",
   "execution_count": 124,
   "id": "55e88f56-f0c9-4e47-9331-f5c8f34de561",
   "metadata": {},
   "outputs": [
    {
     "data": {
      "text/plain": [
       "<surprise.prediction_algorithms.matrix_factorization.SVD at 0x16ee71178f0>"
      ]
     },
     "execution_count": 124,
     "metadata": {},
     "output_type": "execute_result"
    }
   ],
   "source": [
    "svd.fit(trainset)"
   ]
  },
  {
   "cell_type": "code",
   "execution_count": 136,
   "id": "c564e1ab-4ce6-44af-b395-0e986e38ca81",
   "metadata": {},
   "outputs": [
    {
     "name": "stdout",
     "output_type": "stream",
     "text": [
      "User: 907, Item: 143, True rating: 5.0, Predicted rating: 4.89\n",
      "User: 371, Item: 210, True rating: 4.0, Predicted rating: 4.14\n",
      "User: 218, Item: 42, True rating: 4.0, Predicted rating: 3.49\n",
      "User: 829, Item: 170, True rating: 4.0, Predicted rating: 4.03\n",
      "User: 733, Item: 277, True rating: 1.0, Predicted rating: 2.99\n",
      "User: 363, Item: 1512, True rating: 1.0, Predicted rating: 3.51\n",
      "User: 193, Item: 487, True rating: 5.0, Predicted rating: 3.93\n",
      "User: 808, Item: 313, True rating: 5.0, Predicted rating: 4.81\n",
      "User: 557, Item: 682, True rating: 2.0, Predicted rating: 3.64\n",
      "User: 774, Item: 196, True rating: 3.0, Predicted rating: 2.13\n"
     ]
    }
   ],
   "source": [
    "test_model(svd, testset)"
   ]
  },
  {
   "cell_type": "code",
   "execution_count": 148,
   "id": "96f3f427-c95c-4264-961a-4fa7d8771d05",
   "metadata": {},
   "outputs": [
    {
     "name": "stdout",
     "output_type": "stream",
     "text": [
      "RMSE: 0.9373\n"
     ]
    },
    {
     "data": {
      "text/plain": [
       "0.9373043768714834"
      ]
     },
     "execution_count": 148,
     "metadata": {},
     "output_type": "execute_result"
    }
   ],
   "source": [
    "svd_predictions = svd.test(testset)\n",
    "accuracy.rmse(svd_predictions)"
   ]
  },
  {
   "cell_type": "markdown",
   "id": "a0f7e1ea-2b92-48cf-8e48-b450451fe5a2",
   "metadata": {},
   "source": [
    "## Точність моделі SVD на тестовому наборі = 93.7%"
   ]
  },
  {
   "cell_type": "markdown",
   "id": "0b06b4dc-6ad0-497d-ad6e-87ac780c8d02",
   "metadata": {},
   "source": [
    "## Тренуємо модель за алгоритмом SVD++"
   ]
  },
  {
   "cell_type": "code",
   "execution_count": 26,
   "id": "7625cadc-580c-470b-8be0-2056a75d6051",
   "metadata": {},
   "outputs": [
    {
     "name": "stdout",
     "output_type": "stream",
     "text": [
      "Evaluating RMSE, MAE of algorithm SVDpp on 5 split(s).\n",
      "\n",
      "                  Fold 1  Fold 2  Fold 3  Fold 4  Fold 5  Mean    Std     \n",
      "RMSE (testset)    0.9204  0.9194  0.9206  0.9197  0.9210  0.9202  0.0006  \n",
      "MAE (testset)     0.7237  0.7216  0.7209  0.7231  0.7208  0.7220  0.0012  \n",
      "Fit time          17.46   17.36   17.27   17.46   17.35   17.38   0.07    \n",
      "Test time         2.79    2.73    2.89    2.73    2.70    2.77    0.07    \n"
     ]
    }
   ],
   "source": [
    "svdpp = SVDpp()\n",
    "svdpp_results = cross_validate(svdpp, data, measures=['RMSE', 'MAE'], cv=5, verbose=True)"
   ]
  },
  {
   "cell_type": "code",
   "execution_count": 41,
   "id": "085540f3-53c4-4847-897c-deda1662e6ce",
   "metadata": {},
   "outputs": [
    {
     "data": {
      "text/plain": [
       "<surprise.prediction_algorithms.matrix_factorization.SVDpp at 0x16eea193ce0>"
      ]
     },
     "execution_count": 41,
     "metadata": {},
     "output_type": "execute_result"
    }
   ],
   "source": [
    "svdpp.fit(trainset)"
   ]
  },
  {
   "cell_type": "code",
   "execution_count": 138,
   "id": "f874d579-dda3-4bea-9a82-b50ba57718dd",
   "metadata": {},
   "outputs": [
    {
     "name": "stdout",
     "output_type": "stream",
     "text": [
      "User: 907, Item: 143, True rating: 5.0, Predicted rating: 5\n",
      "User: 371, Item: 210, True rating: 4.0, Predicted rating: 4.56\n",
      "User: 218, Item: 42, True rating: 4.0, Predicted rating: 3.45\n",
      "User: 829, Item: 170, True rating: 4.0, Predicted rating: 4.14\n",
      "User: 733, Item: 277, True rating: 1.0, Predicted rating: 2.83\n",
      "User: 363, Item: 1512, True rating: 1.0, Predicted rating: 2.85\n",
      "User: 193, Item: 487, True rating: 5.0, Predicted rating: 4.16\n",
      "User: 808, Item: 313, True rating: 5.0, Predicted rating: 4.95\n",
      "User: 557, Item: 682, True rating: 2.0, Predicted rating: 3.2\n",
      "User: 774, Item: 196, True rating: 3.0, Predicted rating: 2.18\n"
     ]
    }
   ],
   "source": [
    "test_model(svdpp, testset)"
   ]
  },
  {
   "cell_type": "code",
   "execution_count": 150,
   "id": "aa4409cc-89f9-40af-b76c-bc45b7b9979c",
   "metadata": {},
   "outputs": [
    {
     "name": "stdout",
     "output_type": "stream",
     "text": [
      "RMSE: 0.7566\n"
     ]
    },
    {
     "data": {
      "text/plain": [
       "0.7565959776300923"
      ]
     },
     "execution_count": 150,
     "metadata": {},
     "output_type": "execute_result"
    }
   ],
   "source": [
    "svdpp_predictions = svdpp.test(testset)\n",
    "accuracy.rmse(svdpp_predictions)"
   ]
  },
  {
   "cell_type": "markdown",
   "id": "f687e1a7-c02c-406d-915c-13cd17562e70",
   "metadata": {},
   "source": [
    "## Точність моделі SVD++ = 75.6%"
   ]
  },
  {
   "cell_type": "markdown",
   "id": "2567decd-7b40-4058-baa2-69f420eb6df0",
   "metadata": {},
   "source": [
    "## Тренуємо модель за алгоритмом NMF"
   ]
  },
  {
   "cell_type": "code",
   "execution_count": 27,
   "id": "d2c21183-29b8-4d7d-86bb-35e5606055a6",
   "metadata": {},
   "outputs": [
    {
     "name": "stdout",
     "output_type": "stream",
     "text": [
      "Evaluating RMSE, MAE of algorithm NMF on 5 split(s).\n",
      "\n",
      "                  Fold 1  Fold 2  Fold 3  Fold 4  Fold 5  Mean    Std     \n",
      "RMSE (testset)    0.9696  0.9525  0.9658  0.9684  0.9586  0.9630  0.0065  \n",
      "MAE (testset)     0.7615  0.7495  0.7578  0.7619  0.7531  0.7568  0.0048  \n",
      "Fit time          1.40    1.40    1.40    1.47    1.48    1.43    0.04    \n",
      "Test time         0.15    0.08    0.15    0.08    0.18    0.13    0.04    \n"
     ]
    }
   ],
   "source": [
    "nmf = NMF()\n",
    "nmf_results = cross_validate(nmf, data, measures=['RMSE', 'MAE'], cv=5, verbose=True)"
   ]
  },
  {
   "cell_type": "code",
   "execution_count": 47,
   "id": "4c5eb142-ae36-485a-a5d8-1fa6dbeae080",
   "metadata": {},
   "outputs": [
    {
     "data": {
      "text/plain": [
       "<surprise.prediction_algorithms.matrix_factorization.NMF at 0x16eea193fe0>"
      ]
     },
     "execution_count": 47,
     "metadata": {},
     "output_type": "execute_result"
    }
   ],
   "source": [
    "nmf.fit(trainset)"
   ]
  },
  {
   "cell_type": "code",
   "execution_count": 140,
   "id": "8421d575-4b23-45a8-94e0-ad1c213187d7",
   "metadata": {},
   "outputs": [
    {
     "name": "stdout",
     "output_type": "stream",
     "text": [
      "User: 907, Item: 143, True rating: 5.0, Predicted rating: 4.89\n",
      "User: 371, Item: 210, True rating: 4.0, Predicted rating: 4.14\n",
      "User: 218, Item: 42, True rating: 4.0, Predicted rating: 3.49\n",
      "User: 829, Item: 170, True rating: 4.0, Predicted rating: 4.03\n",
      "User: 733, Item: 277, True rating: 1.0, Predicted rating: 2.99\n",
      "User: 363, Item: 1512, True rating: 1.0, Predicted rating: 3.51\n",
      "User: 193, Item: 487, True rating: 5.0, Predicted rating: 3.93\n",
      "User: 808, Item: 313, True rating: 5.0, Predicted rating: 4.81\n",
      "User: 557, Item: 682, True rating: 2.0, Predicted rating: 3.64\n",
      "User: 774, Item: 196, True rating: 3.0, Predicted rating: 2.13\n"
     ]
    }
   ],
   "source": [
    "test_model(svd, testset)"
   ]
  },
  {
   "cell_type": "code",
   "execution_count": 152,
   "id": "48cfd305-0c93-4cd7-8c0b-10888f93abb4",
   "metadata": {},
   "outputs": [
    {
     "name": "stdout",
     "output_type": "stream",
     "text": [
      "RMSE: 0.8166\n"
     ]
    },
    {
     "data": {
      "text/plain": [
       "0.8166414064280513"
      ]
     },
     "execution_count": 152,
     "metadata": {},
     "output_type": "execute_result"
    }
   ],
   "source": [
    "nmf_predictions = nmf.test(testset)\n",
    "accuracy.rmse(nmf_predictions)"
   ]
  },
  {
   "cell_type": "markdown",
   "id": "454026f6-aebd-45ab-8949-5ed22c6674c0",
   "metadata": {},
   "source": [
    "## Точність моделі NMF = 81.6%"
   ]
  },
  {
   "cell_type": "markdown",
   "id": "c633b6b4-0a42-4faa-9314-1af41bc4802c",
   "metadata": {},
   "source": [
    "## Висновок:\n",
    "\n",
    "## У порівнянні з трьома алгоритмами (SVD, SVD++, NMF), найбільш точним є алгоритм SVD. з результатом: 93.7%."
   ]
  },
  {
   "cell_type": "markdown",
   "id": "a35b0cec-8684-4566-967b-6c1f8a53fe94",
   "metadata": {},
   "source": [
    "## Проведемо оптимізацію гіперпараметрів з крос-валідацією на алгоритмах SVD та NMF з ціллю покращити кінцевий результат"
   ]
  },
  {
   "cell_type": "markdown",
   "id": "ffed74a0-4473-4bb0-bcbf-2ae286181b8d",
   "metadata": {},
   "source": [
    "## Алгоритм SVD"
   ]
  },
  {
   "cell_type": "code",
   "execution_count": 154,
   "id": "5171db98-fb21-44ec-9da1-3f548e433811",
   "metadata": {},
   "outputs": [
    {
     "name": "stdout",
     "output_type": "stream",
     "text": [
      "Найкращі параметри для SVD: {'n_epochs': 10, 'lr_all': 0.005, 'reg_all': 0.4}\n",
      "RMSE для SVD: 0.9635001862298441\n",
      "MAE для SVD: 0.7723379633453877\n"
     ]
    }
   ],
   "source": [
    "param_grid_svd = {\n",
    "    'n_epochs': [5, 10],\n",
    "    'lr_all': [0.002, 0.005],\n",
    "    'reg_all': [0.4, 0.6]\n",
    "}\n",
    "\n",
    "gs_svd = GridSearchCV(SVD, param_grid_svd, measures=['rmse', 'mae'], cv=3)\n",
    "gs_svd.fit(data)\n",
    "\n",
    "best_params_svd = gs_svd.best_params['rmse']\n",
    "print(\"Найкращі параметри для SVD:\", best_params_svd)\n",
    "print(\"RMSE для SVD:\", gs_svd.best_score['rmse'])\n",
    "print(\"MAE для SVD:\", gs_svd.best_score['mae'])"
   ]
  },
  {
   "cell_type": "code",
   "execution_count": 155,
   "id": "978a8c49-aee4-4950-808b-5dc91c2b4267",
   "metadata": {},
   "outputs": [
    {
     "data": {
      "text/plain": [
       "<surprise.prediction_algorithms.matrix_factorization.SVD at 0x16ee7117ef0>"
      ]
     },
     "execution_count": 155,
     "metadata": {},
     "output_type": "execute_result"
    }
   ],
   "source": [
    "best_svd = gs_svd.best_estimator[\"rmse\"]\n",
    "best_svd.fit(trainset)"
   ]
  },
  {
   "cell_type": "code",
   "execution_count": 158,
   "id": "acf6653f-8b21-4267-a4bc-097eb97f55f7",
   "metadata": {},
   "outputs": [
    {
     "name": "stdout",
     "output_type": "stream",
     "text": [
      "User: 907, Item: 143, True rating: 5.0, Predicted rating: 4.89\n",
      "User: 371, Item: 210, True rating: 4.0, Predicted rating: 4.14\n",
      "User: 218, Item: 42, True rating: 4.0, Predicted rating: 3.49\n",
      "User: 829, Item: 170, True rating: 4.0, Predicted rating: 4.03\n",
      "User: 733, Item: 277, True rating: 1.0, Predicted rating: 2.99\n",
      "User: 363, Item: 1512, True rating: 1.0, Predicted rating: 3.51\n",
      "User: 193, Item: 487, True rating: 5.0, Predicted rating: 3.93\n",
      "User: 808, Item: 313, True rating: 5.0, Predicted rating: 4.81\n",
      "User: 557, Item: 682, True rating: 2.0, Predicted rating: 3.64\n",
      "User: 774, Item: 196, True rating: 3.0, Predicted rating: 2.13\n"
     ]
    }
   ],
   "source": [
    "test_model(svd, testset)"
   ]
  },
  {
   "cell_type": "code",
   "execution_count": 160,
   "id": "41b2ab65-d42a-4ede-9d3d-d26fe4fb2bcd",
   "metadata": {},
   "outputs": [
    {
     "name": "stdout",
     "output_type": "stream",
     "text": [
      "RMSE: 0.9634\n"
     ]
    },
    {
     "data": {
      "text/plain": [
       "0.9633933391682957"
      ]
     },
     "execution_count": 160,
     "metadata": {},
     "output_type": "execute_result"
    }
   ],
   "source": [
    "best_svd_predictions = best_svd.test(testset)\n",
    "accuracy.rmse(best_svd_predictions)"
   ]
  },
  {
   "cell_type": "markdown",
   "id": "3a3da698-05cb-4ce9-a97e-526d9e0c61bd",
   "metadata": {},
   "source": [
    "## Точність найкращого SVD алгоритму = 96.3%\n",
    "\n",
    "## Найкращі гіперпараметри: 'n_epochs': 10, 'lr_all': 0.005, 'reg_all': 0.4"
   ]
  },
  {
   "cell_type": "markdown",
   "id": "9799db35-a7bf-4eb0-89f1-3fcd3d66c9d6",
   "metadata": {},
   "source": [
    "## Алгоритм NMF"
   ]
  },
  {
   "cell_type": "code",
   "execution_count": 162,
   "id": "ce6e2623-18f1-4e30-b01b-6f132bcc109a",
   "metadata": {},
   "outputs": [
    {
     "name": "stdout",
     "output_type": "stream",
     "text": [
      "Найкращі параметри для NMF: {'n_factors': 50, 'reg_pu': 0.1, 'reg_qi': 0.1}\n",
      "RMSE для NMF: 0.9443392560927061\n",
      "MAE для NMF: 0.742153483410013\n"
     ]
    }
   ],
   "source": [
    "param_grid_nmf = {\n",
    "    'n_factors': [15, 30, 50],\n",
    "    'reg_pu': [0.06, 0.1],\n",
    "    'reg_qi': [0.06, 0.1]\n",
    "}\n",
    "\n",
    "gs_nmf = GridSearchCV(NMF, param_grid_nmf, measures=['rmse', 'mae'], cv=3)\n",
    "gs_nmf.fit(data)\n",
    "\n",
    "best_params_nmf = gs_nmf.best_params['rmse']\n",
    "print(\"Найкращі параметри для NMF:\", best_params_nmf)\n",
    "print(\"RMSE для NMF:\", gs_nmf.best_score['rmse'])\n",
    "print(\"MAE для NMF:\", gs_nmf.best_score['mae'])"
   ]
  },
  {
   "cell_type": "code",
   "execution_count": 163,
   "id": "6e945624-a7f3-45bb-938a-587bc5514c7a",
   "metadata": {},
   "outputs": [
    {
     "data": {
      "text/plain": [
       "<surprise.prediction_algorithms.matrix_factorization.NMF at 0x16ee587db20>"
      ]
     },
     "execution_count": 163,
     "metadata": {},
     "output_type": "execute_result"
    }
   ],
   "source": [
    "best_nmf = gs_nmf.best_estimator[\"rmse\"]\n",
    "best_nmf.fit(trainset)"
   ]
  },
  {
   "cell_type": "code",
   "execution_count": 164,
   "id": "dfdbb983-e0e5-442b-bd40-915f0acd5576",
   "metadata": {},
   "outputs": [
    {
     "name": "stdout",
     "output_type": "stream",
     "text": [
      "User: 907, Item: 143, True rating: 5.0, Predicted rating: 4.9\n",
      "User: 371, Item: 210, True rating: 4.0, Predicted rating: 4.12\n",
      "User: 218, Item: 42, True rating: 4.0, Predicted rating: 3.29\n",
      "User: 829, Item: 170, True rating: 4.0, Predicted rating: 3.87\n",
      "User: 733, Item: 277, True rating: 1.0, Predicted rating: 3.11\n",
      "User: 363, Item: 1512, True rating: 1.0, Predicted rating: 4.03\n",
      "User: 193, Item: 487, True rating: 5.0, Predicted rating: 3.77\n",
      "User: 808, Item: 313, True rating: 5.0, Predicted rating: 4.86\n",
      "User: 557, Item: 682, True rating: 2.0, Predicted rating: 2.99\n",
      "User: 774, Item: 196, True rating: 3.0, Predicted rating: 2.45\n"
     ]
    }
   ],
   "source": [
    "test_model(best_nmf, testset)"
   ]
  },
  {
   "cell_type": "code",
   "execution_count": 168,
   "id": "18750b41-efc0-426b-82bf-201cf9a6cfe5",
   "metadata": {},
   "outputs": [
    {
     "name": "stdout",
     "output_type": "stream",
     "text": [
      "RMSE: 0.9386\n"
     ]
    },
    {
     "data": {
      "text/plain": [
       "0.9385789506374623"
      ]
     },
     "execution_count": 168,
     "metadata": {},
     "output_type": "execute_result"
    }
   ],
   "source": [
    "best_nmf_predictions = best_nmf.test(testset)\n",
    "accuracy.rmse(best_nmf_predictions)"
   ]
  },
  {
   "cell_type": "markdown",
   "id": "594a6032-ee45-4c69-a70e-a63054af6b29",
   "metadata": {},
   "source": [
    "## Точність найкращого NMF алгоритму = 93.8%\n",
    "\n",
    "## Найкращі гіперпараметри: 'n_factors': 50, 'reg_pu': 0.1, 'reg_qi': 0.1"
   ]
  },
  {
   "cell_type": "markdown",
   "id": "575307f6-e725-4263-959e-bc8f105ab8d3",
   "metadata": {},
   "source": [
    "## Висновок:\n",
    "\n",
    "## У порівнянні моделей SVD та NMF, з оптимізованими гіперпараметрами, точність значно покращилась в обох моделях, проте алгоритм SVD всеодно відпрацював більш точно, ніж NMF. Точність SVD на тестовому наборі (96.3%) вища за точність NMF (93.8%)."
   ]
  }
 ],
 "metadata": {
  "kernelspec": {
   "display_name": "Python 3 (ipykernel)",
   "language": "python",
   "name": "python3"
  },
  "language_info": {
   "codemirror_mode": {
    "name": "ipython",
    "version": 3
   },
   "file_extension": ".py",
   "mimetype": "text/x-python",
   "name": "python",
   "nbconvert_exporter": "python",
   "pygments_lexer": "ipython3",
   "version": "3.12.4"
  }
 },
 "nbformat": 4,
 "nbformat_minor": 5
}

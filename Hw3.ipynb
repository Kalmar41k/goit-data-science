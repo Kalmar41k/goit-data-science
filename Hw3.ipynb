{
  "cells": [
    {
      "cell_type": "markdown",
      "source": [
        "## У ході цієї роботи, ми оглянемо, як працює модель лінійної регресії на математичному рівні та зрівняємо її з побудованою моделлю від Scikit-Learn."
      ],
      "metadata": {
        "id": "xdCc-X8JCYWz"
      },
      "id": "xdCc-X8JCYWz"
    },
    {
      "cell_type": "code",
      "execution_count": 1,
      "id": "fe669f28-4872-4342-8845-af27efa4c6c8",
      "metadata": {
        "id": "fe669f28-4872-4342-8845-af27efa4c6c8"
      },
      "outputs": [],
      "source": [
        "import numpy as np\n",
        "from sklearn.model_selection import train_test_split\n",
        "from sklearn.preprocessing import StandardScaler\n",
        "from sklearn.linear_model import LinearRegression\n",
        "from sklearn.metrics import mean_squared_error\n",
        "import seaborn as sns\n",
        "import matplotlib.pyplot as plt\n",
        "import pandas as pd"
      ]
    },
    {
      "cell_type": "markdown",
      "id": "4b3ef022-2e0b-4163-b671-df47fae3f701",
      "metadata": {
        "id": "4b3ef022-2e0b-4163-b671-df47fae3f701"
      },
      "source": [
        "## Напишемо функцію гіпотези лінійної регресії у векторному вигляді."
      ]
    },
    {
      "cell_type": "code",
      "execution_count": 2,
      "id": "62b70bef-63d7-4a8b-9458-d1b28e741bbf",
      "metadata": {
        "id": "62b70bef-63d7-4a8b-9458-d1b28e741bbf"
      },
      "outputs": [],
      "source": [
        "def hypothesis(X, theta):\n",
        "    return np.dot(X, theta)"
      ]
    },
    {
      "cell_type": "markdown",
      "id": "0630f675-5264-4a4e-a2a6-b0403ce4f1fd",
      "metadata": {
        "id": "0630f675-5264-4a4e-a2a6-b0403ce4f1fd"
      },
      "source": [
        "## Створимо функцію для обчислення функції втрат у векторному вигляді."
      ]
    },
    {
      "cell_type": "code",
      "execution_count": 3,
      "id": "c5b165e8-d1e1-4e44-b733-1ba92612c7c3",
      "metadata": {
        "id": "c5b165e8-d1e1-4e44-b733-1ba92612c7c3"
      },
      "outputs": [],
      "source": [
        "def compute_cost(X, y, theta):\n",
        "    m = len(y)\n",
        "    predictions = hypothesis(X, theta)\n",
        "    errors = predictions - y\n",
        "    cost = (1 / (2 * m)) * np.dot(errors, errors)\n",
        "    return cost"
      ]
    },
    {
      "cell_type": "markdown",
      "id": "16d0fca8-5840-45fd-bf70-245c29ec8092",
      "metadata": {
        "id": "16d0fca8-5840-45fd-bf70-245c29ec8092"
      },
      "source": [
        "## Реалізуємо один крок градієнтного спуску."
      ]
    },
    {
      "cell_type": "code",
      "execution_count": 4,
      "id": "22d4d280-e616-46f6-af6e-11d028a6c7aa",
      "metadata": {
        "id": "22d4d280-e616-46f6-af6e-11d028a6c7aa"
      },
      "outputs": [],
      "source": [
        "def gradient_step(X, y, theta, alpha):\n",
        "    m = len(y)\n",
        "    predictions = hypothesis(X, theta)\n",
        "    errors = predictions - y\n",
        "    gradient = (1 / m) * np.dot(X.T, errors)\n",
        "    theta = theta - alpha * gradient\n",
        "    return theta"
      ]
    },
    {
      "cell_type": "markdown",
      "id": "829ebc52-0ee9-45c0-9ce7-18454fea7141",
      "metadata": {
        "id": "829ebc52-0ee9-45c0-9ce7-18454fea7141"
      },
      "source": [
        "## Функція градієнтного спуску"
      ]
    },
    {
      "cell_type": "code",
      "execution_count": 5,
      "id": "c4d4168f-0536-4487-8b3d-94418c64245c",
      "metadata": {
        "id": "c4d4168f-0536-4487-8b3d-94418c64245c"
      },
      "outputs": [],
      "source": [
        "def gradient_descent(X, y, theta, alpha, num_iterations):\n",
        "    cost_history = []\n",
        "\n",
        "    for i in range(num_iterations):\n",
        "        theta = gradient_step(X, y, theta, alpha)\n",
        "\n",
        "        cost = compute_cost(X, y, theta)\n",
        "        cost_history.append(cost)\n",
        "\n",
        "        print(f\"Ітерація {i}: Функція втрат = {cost}\")\n",
        "\n",
        "    return theta, cost_history"
      ]
    },
    {
      "cell_type": "markdown",
      "id": "8483d54d-6e5c-4292-a924-01c7234b3b03",
      "metadata": {
        "id": "8483d54d-6e5c-4292-a924-01c7234b3b03"
      },
      "source": [
        "## Зчитуємо датасет"
      ]
    },
    {
      "cell_type": "code",
      "source": [
        "from google.colab import drive"
      ],
      "metadata": {
        "id": "ttlyW0d4Dacc"
      },
      "id": "ttlyW0d4Dacc",
      "execution_count": 7,
      "outputs": []
    },
    {
      "cell_type": "code",
      "source": [
        "drive.mount(\"/content/drive\")"
      ],
      "metadata": {
        "colab": {
          "base_uri": "https://localhost:8080/"
        },
        "id": "8fBQVtwJDizb",
        "outputId": "584514f0-a447-43a6-ce57-20eae46c8c85"
      },
      "id": "8fBQVtwJDizb",
      "execution_count": 8,
      "outputs": [
        {
          "output_type": "stream",
          "name": "stdout",
          "text": [
            "Mounted at /content/drive\n"
          ]
        }
      ]
    },
    {
      "cell_type": "code",
      "execution_count": 9,
      "id": "30cdb7cf-f139-4707-86cb-1159ddc894c8",
      "metadata": {
        "colab": {
          "base_uri": "https://localhost:8080/",
          "height": 226
        },
        "id": "30cdb7cf-f139-4707-86cb-1159ddc894c8",
        "outputId": "ba890e7f-ac7f-4a34-9da6-b1b2a2a1dafb"
      },
      "outputs": [
        {
          "output_type": "execute_result",
          "data": {
            "text/plain": [
              "      price  area  bedrooms  bathrooms  stories mainroad guestroom basement  \\\n",
              "0  13300000  7420         4          2        3      yes        no       no   \n",
              "1  12250000  8960         4          4        4      yes        no       no   \n",
              "2  12250000  9960         3          2        2      yes        no      yes   \n",
              "3  12215000  7500         4          2        2      yes        no      yes   \n",
              "4  11410000  7420         4          1        2      yes       yes      yes   \n",
              "\n",
              "  hotwaterheating airconditioning  parking prefarea furnishingstatus  \n",
              "0              no             yes        2      yes        furnished  \n",
              "1              no             yes        3       no        furnished  \n",
              "2              no              no        2      yes   semi-furnished  \n",
              "3              no             yes        3      yes        furnished  \n",
              "4              no             yes        2       no        furnished  "
            ],
            "text/html": [
              "\n",
              "  <div id=\"df-e4dc2224-945d-4c63-86ac-e2277e0cc58d\" class=\"colab-df-container\">\n",
              "    <div>\n",
              "<style scoped>\n",
              "    .dataframe tbody tr th:only-of-type {\n",
              "        vertical-align: middle;\n",
              "    }\n",
              "\n",
              "    .dataframe tbody tr th {\n",
              "        vertical-align: top;\n",
              "    }\n",
              "\n",
              "    .dataframe thead th {\n",
              "        text-align: right;\n",
              "    }\n",
              "</style>\n",
              "<table border=\"1\" class=\"dataframe\">\n",
              "  <thead>\n",
              "    <tr style=\"text-align: right;\">\n",
              "      <th></th>\n",
              "      <th>price</th>\n",
              "      <th>area</th>\n",
              "      <th>bedrooms</th>\n",
              "      <th>bathrooms</th>\n",
              "      <th>stories</th>\n",
              "      <th>mainroad</th>\n",
              "      <th>guestroom</th>\n",
              "      <th>basement</th>\n",
              "      <th>hotwaterheating</th>\n",
              "      <th>airconditioning</th>\n",
              "      <th>parking</th>\n",
              "      <th>prefarea</th>\n",
              "      <th>furnishingstatus</th>\n",
              "    </tr>\n",
              "  </thead>\n",
              "  <tbody>\n",
              "    <tr>\n",
              "      <th>0</th>\n",
              "      <td>13300000</td>\n",
              "      <td>7420</td>\n",
              "      <td>4</td>\n",
              "      <td>2</td>\n",
              "      <td>3</td>\n",
              "      <td>yes</td>\n",
              "      <td>no</td>\n",
              "      <td>no</td>\n",
              "      <td>no</td>\n",
              "      <td>yes</td>\n",
              "      <td>2</td>\n",
              "      <td>yes</td>\n",
              "      <td>furnished</td>\n",
              "    </tr>\n",
              "    <tr>\n",
              "      <th>1</th>\n",
              "      <td>12250000</td>\n",
              "      <td>8960</td>\n",
              "      <td>4</td>\n",
              "      <td>4</td>\n",
              "      <td>4</td>\n",
              "      <td>yes</td>\n",
              "      <td>no</td>\n",
              "      <td>no</td>\n",
              "      <td>no</td>\n",
              "      <td>yes</td>\n",
              "      <td>3</td>\n",
              "      <td>no</td>\n",
              "      <td>furnished</td>\n",
              "    </tr>\n",
              "    <tr>\n",
              "      <th>2</th>\n",
              "      <td>12250000</td>\n",
              "      <td>9960</td>\n",
              "      <td>3</td>\n",
              "      <td>2</td>\n",
              "      <td>2</td>\n",
              "      <td>yes</td>\n",
              "      <td>no</td>\n",
              "      <td>yes</td>\n",
              "      <td>no</td>\n",
              "      <td>no</td>\n",
              "      <td>2</td>\n",
              "      <td>yes</td>\n",
              "      <td>semi-furnished</td>\n",
              "    </tr>\n",
              "    <tr>\n",
              "      <th>3</th>\n",
              "      <td>12215000</td>\n",
              "      <td>7500</td>\n",
              "      <td>4</td>\n",
              "      <td>2</td>\n",
              "      <td>2</td>\n",
              "      <td>yes</td>\n",
              "      <td>no</td>\n",
              "      <td>yes</td>\n",
              "      <td>no</td>\n",
              "      <td>yes</td>\n",
              "      <td>3</td>\n",
              "      <td>yes</td>\n",
              "      <td>furnished</td>\n",
              "    </tr>\n",
              "    <tr>\n",
              "      <th>4</th>\n",
              "      <td>11410000</td>\n",
              "      <td>7420</td>\n",
              "      <td>4</td>\n",
              "      <td>1</td>\n",
              "      <td>2</td>\n",
              "      <td>yes</td>\n",
              "      <td>yes</td>\n",
              "      <td>yes</td>\n",
              "      <td>no</td>\n",
              "      <td>yes</td>\n",
              "      <td>2</td>\n",
              "      <td>no</td>\n",
              "      <td>furnished</td>\n",
              "    </tr>\n",
              "  </tbody>\n",
              "</table>\n",
              "</div>\n",
              "    <div class=\"colab-df-buttons\">\n",
              "\n",
              "  <div class=\"colab-df-container\">\n",
              "    <button class=\"colab-df-convert\" onclick=\"convertToInteractive('df-e4dc2224-945d-4c63-86ac-e2277e0cc58d')\"\n",
              "            title=\"Convert this dataframe to an interactive table.\"\n",
              "            style=\"display:none;\">\n",
              "\n",
              "  <svg xmlns=\"http://www.w3.org/2000/svg\" height=\"24px\" viewBox=\"0 -960 960 960\">\n",
              "    <path d=\"M120-120v-720h720v720H120Zm60-500h600v-160H180v160Zm220 220h160v-160H400v160Zm0 220h160v-160H400v160ZM180-400h160v-160H180v160Zm440 0h160v-160H620v160ZM180-180h160v-160H180v160Zm440 0h160v-160H620v160Z\"/>\n",
              "  </svg>\n",
              "    </button>\n",
              "\n",
              "  <style>\n",
              "    .colab-df-container {\n",
              "      display:flex;\n",
              "      gap: 12px;\n",
              "    }\n",
              "\n",
              "    .colab-df-convert {\n",
              "      background-color: #E8F0FE;\n",
              "      border: none;\n",
              "      border-radius: 50%;\n",
              "      cursor: pointer;\n",
              "      display: none;\n",
              "      fill: #1967D2;\n",
              "      height: 32px;\n",
              "      padding: 0 0 0 0;\n",
              "      width: 32px;\n",
              "    }\n",
              "\n",
              "    .colab-df-convert:hover {\n",
              "      background-color: #E2EBFA;\n",
              "      box-shadow: 0px 1px 2px rgba(60, 64, 67, 0.3), 0px 1px 3px 1px rgba(60, 64, 67, 0.15);\n",
              "      fill: #174EA6;\n",
              "    }\n",
              "\n",
              "    .colab-df-buttons div {\n",
              "      margin-bottom: 4px;\n",
              "    }\n",
              "\n",
              "    [theme=dark] .colab-df-convert {\n",
              "      background-color: #3B4455;\n",
              "      fill: #D2E3FC;\n",
              "    }\n",
              "\n",
              "    [theme=dark] .colab-df-convert:hover {\n",
              "      background-color: #434B5C;\n",
              "      box-shadow: 0px 1px 3px 1px rgba(0, 0, 0, 0.15);\n",
              "      filter: drop-shadow(0px 1px 2px rgba(0, 0, 0, 0.3));\n",
              "      fill: #FFFFFF;\n",
              "    }\n",
              "  </style>\n",
              "\n",
              "    <script>\n",
              "      const buttonEl =\n",
              "        document.querySelector('#df-e4dc2224-945d-4c63-86ac-e2277e0cc58d button.colab-df-convert');\n",
              "      buttonEl.style.display =\n",
              "        google.colab.kernel.accessAllowed ? 'block' : 'none';\n",
              "\n",
              "      async function convertToInteractive(key) {\n",
              "        const element = document.querySelector('#df-e4dc2224-945d-4c63-86ac-e2277e0cc58d');\n",
              "        const dataTable =\n",
              "          await google.colab.kernel.invokeFunction('convertToInteractive',\n",
              "                                                    [key], {});\n",
              "        if (!dataTable) return;\n",
              "\n",
              "        const docLinkHtml = 'Like what you see? Visit the ' +\n",
              "          '<a target=\"_blank\" href=https://colab.research.google.com/notebooks/data_table.ipynb>data table notebook</a>'\n",
              "          + ' to learn more about interactive tables.';\n",
              "        element.innerHTML = '';\n",
              "        dataTable['output_type'] = 'display_data';\n",
              "        await google.colab.output.renderOutput(dataTable, element);\n",
              "        const docLink = document.createElement('div');\n",
              "        docLink.innerHTML = docLinkHtml;\n",
              "        element.appendChild(docLink);\n",
              "      }\n",
              "    </script>\n",
              "  </div>\n",
              "\n",
              "\n",
              "<div id=\"df-69c1a45d-453a-48bc-98ba-975c6523af35\">\n",
              "  <button class=\"colab-df-quickchart\" onclick=\"quickchart('df-69c1a45d-453a-48bc-98ba-975c6523af35')\"\n",
              "            title=\"Suggest charts\"\n",
              "            style=\"display:none;\">\n",
              "\n",
              "<svg xmlns=\"http://www.w3.org/2000/svg\" height=\"24px\"viewBox=\"0 0 24 24\"\n",
              "     width=\"24px\">\n",
              "    <g>\n",
              "        <path d=\"M19 3H5c-1.1 0-2 .9-2 2v14c0 1.1.9 2 2 2h14c1.1 0 2-.9 2-2V5c0-1.1-.9-2-2-2zM9 17H7v-7h2v7zm4 0h-2V7h2v10zm4 0h-2v-4h2v4z\"/>\n",
              "    </g>\n",
              "</svg>\n",
              "  </button>\n",
              "\n",
              "<style>\n",
              "  .colab-df-quickchart {\n",
              "      --bg-color: #E8F0FE;\n",
              "      --fill-color: #1967D2;\n",
              "      --hover-bg-color: #E2EBFA;\n",
              "      --hover-fill-color: #174EA6;\n",
              "      --disabled-fill-color: #AAA;\n",
              "      --disabled-bg-color: #DDD;\n",
              "  }\n",
              "\n",
              "  [theme=dark] .colab-df-quickchart {\n",
              "      --bg-color: #3B4455;\n",
              "      --fill-color: #D2E3FC;\n",
              "      --hover-bg-color: #434B5C;\n",
              "      --hover-fill-color: #FFFFFF;\n",
              "      --disabled-bg-color: #3B4455;\n",
              "      --disabled-fill-color: #666;\n",
              "  }\n",
              "\n",
              "  .colab-df-quickchart {\n",
              "    background-color: var(--bg-color);\n",
              "    border: none;\n",
              "    border-radius: 50%;\n",
              "    cursor: pointer;\n",
              "    display: none;\n",
              "    fill: var(--fill-color);\n",
              "    height: 32px;\n",
              "    padding: 0;\n",
              "    width: 32px;\n",
              "  }\n",
              "\n",
              "  .colab-df-quickchart:hover {\n",
              "    background-color: var(--hover-bg-color);\n",
              "    box-shadow: 0 1px 2px rgba(60, 64, 67, 0.3), 0 1px 3px 1px rgba(60, 64, 67, 0.15);\n",
              "    fill: var(--button-hover-fill-color);\n",
              "  }\n",
              "\n",
              "  .colab-df-quickchart-complete:disabled,\n",
              "  .colab-df-quickchart-complete:disabled:hover {\n",
              "    background-color: var(--disabled-bg-color);\n",
              "    fill: var(--disabled-fill-color);\n",
              "    box-shadow: none;\n",
              "  }\n",
              "\n",
              "  .colab-df-spinner {\n",
              "    border: 2px solid var(--fill-color);\n",
              "    border-color: transparent;\n",
              "    border-bottom-color: var(--fill-color);\n",
              "    animation:\n",
              "      spin 1s steps(1) infinite;\n",
              "  }\n",
              "\n",
              "  @keyframes spin {\n",
              "    0% {\n",
              "      border-color: transparent;\n",
              "      border-bottom-color: var(--fill-color);\n",
              "      border-left-color: var(--fill-color);\n",
              "    }\n",
              "    20% {\n",
              "      border-color: transparent;\n",
              "      border-left-color: var(--fill-color);\n",
              "      border-top-color: var(--fill-color);\n",
              "    }\n",
              "    30% {\n",
              "      border-color: transparent;\n",
              "      border-left-color: var(--fill-color);\n",
              "      border-top-color: var(--fill-color);\n",
              "      border-right-color: var(--fill-color);\n",
              "    }\n",
              "    40% {\n",
              "      border-color: transparent;\n",
              "      border-right-color: var(--fill-color);\n",
              "      border-top-color: var(--fill-color);\n",
              "    }\n",
              "    60% {\n",
              "      border-color: transparent;\n",
              "      border-right-color: var(--fill-color);\n",
              "    }\n",
              "    80% {\n",
              "      border-color: transparent;\n",
              "      border-right-color: var(--fill-color);\n",
              "      border-bottom-color: var(--fill-color);\n",
              "    }\n",
              "    90% {\n",
              "      border-color: transparent;\n",
              "      border-bottom-color: var(--fill-color);\n",
              "    }\n",
              "  }\n",
              "</style>\n",
              "\n",
              "  <script>\n",
              "    async function quickchart(key) {\n",
              "      const quickchartButtonEl =\n",
              "        document.querySelector('#' + key + ' button');\n",
              "      quickchartButtonEl.disabled = true;  // To prevent multiple clicks.\n",
              "      quickchartButtonEl.classList.add('colab-df-spinner');\n",
              "      try {\n",
              "        const charts = await google.colab.kernel.invokeFunction(\n",
              "            'suggestCharts', [key], {});\n",
              "      } catch (error) {\n",
              "        console.error('Error during call to suggestCharts:', error);\n",
              "      }\n",
              "      quickchartButtonEl.classList.remove('colab-df-spinner');\n",
              "      quickchartButtonEl.classList.add('colab-df-quickchart-complete');\n",
              "    }\n",
              "    (() => {\n",
              "      let quickchartButtonEl =\n",
              "        document.querySelector('#df-69c1a45d-453a-48bc-98ba-975c6523af35 button');\n",
              "      quickchartButtonEl.style.display =\n",
              "        google.colab.kernel.accessAllowed ? 'block' : 'none';\n",
              "    })();\n",
              "  </script>\n",
              "</div>\n",
              "    </div>\n",
              "  </div>\n"
            ],
            "application/vnd.google.colaboratory.intrinsic+json": {
              "type": "dataframe",
              "variable_name": "df",
              "summary": "{\n  \"name\": \"df\",\n  \"rows\": 545,\n  \"fields\": [\n    {\n      \"column\": \"price\",\n      \"properties\": {\n        \"dtype\": \"number\",\n        \"std\": 1870439,\n        \"min\": 1750000,\n        \"max\": 13300000,\n        \"num_unique_values\": 219,\n        \"samples\": [\n          3773000,\n          5285000,\n          1820000\n        ],\n        \"semantic_type\": \"\",\n        \"description\": \"\"\n      }\n    },\n    {\n      \"column\": \"area\",\n      \"properties\": {\n        \"dtype\": \"number\",\n        \"std\": 2170,\n        \"min\": 1650,\n        \"max\": 16200,\n        \"num_unique_values\": 284,\n        \"samples\": [\n          6000,\n          2684,\n          5360\n        ],\n        \"semantic_type\": \"\",\n        \"description\": \"\"\n      }\n    },\n    {\n      \"column\": \"bedrooms\",\n      \"properties\": {\n        \"dtype\": \"number\",\n        \"std\": 0,\n        \"min\": 1,\n        \"max\": 6,\n        \"num_unique_values\": 6,\n        \"samples\": [\n          4,\n          3,\n          1\n        ],\n        \"semantic_type\": \"\",\n        \"description\": \"\"\n      }\n    },\n    {\n      \"column\": \"bathrooms\",\n      \"properties\": {\n        \"dtype\": \"number\",\n        \"std\": 0,\n        \"min\": 1,\n        \"max\": 4,\n        \"num_unique_values\": 4,\n        \"samples\": [\n          4,\n          3,\n          2\n        ],\n        \"semantic_type\": \"\",\n        \"description\": \"\"\n      }\n    },\n    {\n      \"column\": \"stories\",\n      \"properties\": {\n        \"dtype\": \"number\",\n        \"std\": 0,\n        \"min\": 1,\n        \"max\": 4,\n        \"num_unique_values\": 4,\n        \"samples\": [\n          4,\n          1,\n          3\n        ],\n        \"semantic_type\": \"\",\n        \"description\": \"\"\n      }\n    },\n    {\n      \"column\": \"mainroad\",\n      \"properties\": {\n        \"dtype\": \"category\",\n        \"num_unique_values\": 2,\n        \"samples\": [\n          \"no\",\n          \"yes\"\n        ],\n        \"semantic_type\": \"\",\n        \"description\": \"\"\n      }\n    },\n    {\n      \"column\": \"guestroom\",\n      \"properties\": {\n        \"dtype\": \"category\",\n        \"num_unique_values\": 2,\n        \"samples\": [\n          \"yes\",\n          \"no\"\n        ],\n        \"semantic_type\": \"\",\n        \"description\": \"\"\n      }\n    },\n    {\n      \"column\": \"basement\",\n      \"properties\": {\n        \"dtype\": \"category\",\n        \"num_unique_values\": 2,\n        \"samples\": [\n          \"yes\",\n          \"no\"\n        ],\n        \"semantic_type\": \"\",\n        \"description\": \"\"\n      }\n    },\n    {\n      \"column\": \"hotwaterheating\",\n      \"properties\": {\n        \"dtype\": \"category\",\n        \"num_unique_values\": 2,\n        \"samples\": [\n          \"yes\",\n          \"no\"\n        ],\n        \"semantic_type\": \"\",\n        \"description\": \"\"\n      }\n    },\n    {\n      \"column\": \"airconditioning\",\n      \"properties\": {\n        \"dtype\": \"category\",\n        \"num_unique_values\": 2,\n        \"samples\": [\n          \"no\",\n          \"yes\"\n        ],\n        \"semantic_type\": \"\",\n        \"description\": \"\"\n      }\n    },\n    {\n      \"column\": \"parking\",\n      \"properties\": {\n        \"dtype\": \"number\",\n        \"std\": 0,\n        \"min\": 0,\n        \"max\": 3,\n        \"num_unique_values\": 4,\n        \"samples\": [\n          3,\n          1\n        ],\n        \"semantic_type\": \"\",\n        \"description\": \"\"\n      }\n    },\n    {\n      \"column\": \"prefarea\",\n      \"properties\": {\n        \"dtype\": \"category\",\n        \"num_unique_values\": 2,\n        \"samples\": [\n          \"no\",\n          \"yes\"\n        ],\n        \"semantic_type\": \"\",\n        \"description\": \"\"\n      }\n    },\n    {\n      \"column\": \"furnishingstatus\",\n      \"properties\": {\n        \"dtype\": \"category\",\n        \"num_unique_values\": 3,\n        \"samples\": [\n          \"furnished\",\n          \"semi-furnished\"\n        ],\n        \"semantic_type\": \"\",\n        \"description\": \"\"\n      }\n    }\n  ]\n}"
            }
          },
          "metadata": {},
          "execution_count": 9
        }
      ],
      "source": [
        "df = pd.read_csv(\"/content/drive/MyDrive/data_science/Hw3/Housing.csv\")\n",
        "df.head()"
      ]
    },
    {
      "cell_type": "markdown",
      "id": "f6221ca6-7002-4c63-86ad-517b79968ef3",
      "metadata": {
        "id": "f6221ca6-7002-4c63-86ad-517b79968ef3"
      },
      "source": [
        "## Утворюємо датафрейм з потрібними залежними змінними та датафрейм з незалежною змінною"
      ]
    },
    {
      "cell_type": "code",
      "execution_count": 10,
      "id": "6c36f0b0-515c-4a93-8a52-19e9675992f3",
      "metadata": {
        "colab": {
          "base_uri": "https://localhost:8080/"
        },
        "id": "6c36f0b0-515c-4a93-8a52-19e9675992f3",
        "outputId": "a8511428-06fb-45c8-ae7e-83d58e60e14c"
      },
      "outputs": [
        {
          "output_type": "stream",
          "name": "stdout",
          "text": [
            "   area  bedrooms  bathrooms\n",
            "0  7420         4          2\n",
            "1  8960         4          4\n",
            "2  9960         3          2\n",
            "3  7500         4          2\n",
            "4  7420         4          1\n",
            "0    13300000\n",
            "1    12250000\n",
            "2    12250000\n",
            "3    12215000\n",
            "4    11410000\n",
            "Name: price, dtype: int64\n"
          ]
        }
      ],
      "source": [
        "X = df[[\"area\", \"bedrooms\", \"bathrooms\"]]\n",
        "y = df[\"price\"]\n",
        "print(X.head())\n",
        "print(y.head())"
      ]
    },
    {
      "cell_type": "markdown",
      "id": "8ec7c6ec-7639-4d42-96cb-7bfcfb418f67",
      "metadata": {
        "id": "8ec7c6ec-7639-4d42-96cb-7bfcfb418f67"
      },
      "source": [
        "## Стандартизуємо дані та додаємо зсув (одиницю) в кожен рядок"
      ]
    },
    {
      "cell_type": "code",
      "execution_count": 11,
      "id": "0b3846b5-6759-4202-86a8-8e8f69765822",
      "metadata": {
        "colab": {
          "base_uri": "https://localhost:8080/"
        },
        "id": "0b3846b5-6759-4202-86a8-8e8f69765822",
        "outputId": "4340b0ce-23a1-4364-c905-c832f32baeef"
      },
      "outputs": [
        {
          "output_type": "stream",
          "name": "stdout",
          "text": [
            "[[ 1.          1.04672629  1.40341936  1.42181174]\n",
            " [ 1.          1.75700953  1.40341936  5.40580863]\n",
            " [ 1.          2.21823241  0.04727831  1.42181174]\n",
            " ...\n",
            " [ 1.         -0.70592066 -1.30886273 -0.57018671]\n",
            " [ 1.         -1.03338891  0.04727831 -0.57018671]\n",
            " [ 1.         -0.5998394   0.04727831 -0.57018671]]\n"
          ]
        }
      ],
      "source": [
        "scaler = StandardScaler()\n",
        "X_scaled = scaler.fit_transform(X)\n",
        "X_scaled = np.c_[np.ones(X_scaled.shape[0]), X_scaled]\n",
        "print(X_scaled)"
      ]
    },
    {
      "cell_type": "markdown",
      "id": "1d77d2cb-7186-4ee4-9393-2af04ff23c68",
      "metadata": {
        "id": "1d77d2cb-7186-4ee4-9393-2af04ff23c68"
      },
      "source": [
        "## Розбиваємо датасет на тренувальний та тестовий набори"
      ]
    },
    {
      "cell_type": "code",
      "execution_count": 12,
      "id": "910a9e92-d394-4da1-9b6f-aa4742a3e254",
      "metadata": {
        "colab": {
          "base_uri": "https://localhost:8080/"
        },
        "id": "910a9e92-d394-4da1-9b6f-aa4742a3e254",
        "outputId": "e128891b-62c8-48c3-cdce-639a18279da8"
      },
      "outputs": [
        {
          "output_type": "stream",
          "name": "stdout",
          "text": [
            "[1.         0.34566751 1.40341936 1.42181174]\n",
            "0    4060000\n",
            "1    6650000\n",
            "2    3710000\n",
            "3    6440000\n",
            "4    2800000\n",
            "Name: price, dtype: int64\n"
          ]
        }
      ],
      "source": [
        "X_train, X_test, y_train, y_test = train_test_split(X_scaled, y, test_size=0.2, random_state=42)\n",
        "print(X_test[0])\n",
        "y_test = y_test.reset_index(drop=True)\n",
        "print(y_test.head())"
      ]
    },
    {
      "cell_type": "markdown",
      "id": "64c784df-4938-4f7f-9f8e-c59f6c916e2c",
      "metadata": {
        "id": "64c784df-4938-4f7f-9f8e-c59f6c916e2c"
      },
      "source": [
        "## Знайдіть найкращі параметри ваг для датасету використовуючи написані вами функції, прогнозуючу ціну на будинок залежно від площі, кількості ванних кімнат та кількості спалень."
      ]
    },
    {
      "cell_type": "code",
      "execution_count": 13,
      "id": "c6a22d06-7254-4d10-8fc6-e774c798d2d4",
      "metadata": {
        "colab": {
          "base_uri": "https://localhost:8080/"
        },
        "id": "c6a22d06-7254-4d10-8fc6-e774c798d2d4",
        "outputId": "b10ee8f2-5c54-4f72-fb83-3c138e6d21bb"
      },
      "outputs": [
        {
          "output_type": "stream",
          "name": "stdout",
          "text": [
            "Ітерація 0: Функція втрат = 10344946125326.857\n",
            "Ітерація 1: Функція втрат = 8511750499892.925\n",
            "Ітерація 2: Функція втрат = 7032197637983.032\n",
            "Ітерація 3: Функція втрат = 5837540033544.349\n",
            "Ітерація 4: Функція втрат = 4872526029567.982\n",
            "Ітерація 5: Функція втрат = 4092716379089.596\n",
            "Ітерація 6: Функція втрат = 3462343285762.6504\n",
            "Ітерація 7: Функція втрат = 2952599930297.2485\n",
            "Ітерація 8: Функція втрат = 2540272209401.441\n",
            "Ітерація 9: Функція втрат = 2206642958703.079\n",
            "Ітерація 10: Функція втрат = 1936613467062.9785\n",
            "Ітерація 11: Функція втрат = 1717998511403.8872\n",
            "Ітерація 12: Функція втрат = 1540960136908.3955\n",
            "Ітерація 13: Функція втрат = 1397552508189.5193\n",
            "Ітерація 14: Функція втрат = 1281355773721.7756\n",
            "Ітерація 15: Функція втрат = 1187181337338.8066\n",
            "Ітерація 16: Функція втрат = 1110834465149.2358\n",
            "Ітерація 17: Функція втрат = 1048922967489.2511\n",
            "Ітерація 18: Функція втрат = 998702935079.7734\n",
            "Ітерація 19: Функція втрат = 957954295283.2804\n",
            "Ітерація 20: Функція втрат = 924880381755.7811\n",
            "Ітерація 21: Функція втрат = 898026852554.3229\n",
            "Ітерація 22: Функція втрат = 876216206098.2349\n",
            "Ітерація 23: Функція втрат = 858494877365.7495\n",
            "Ітерація 24: Функція втрат = 844090484874.157\n",
            "Ітерація 25: Функція втрат = 832377271368.5875\n",
            "Ітерація 26: Функція втрат = 822848160831.601\n",
            "Ітерація 27: Функція втрат = 815092159833.758\n",
            "Ітерація 28: Функція втрат = 808776077069.1903\n",
            "Ітерація 29: Функція втрат = 803629732904.1785\n",
            "Ітерація 30: Функція втрат = 799433990308.631\n",
            "Ітерація 31: Функція втрат = 796011067168.4856\n",
            "Ітерація 32: Функція втрат = 793216693728.3696\n",
            "Ітерація 33: Функція втрат = 790933762633.9735\n",
            "Ітерація 34: Функція втрат = 789067186625.1053\n",
            "Ітерація 35: Функція втрат = 787539733502.8204\n",
            "Ітерація 36: Функція втрат = 786288652075.1017\n",
            "Ітерація 37: Функція втрат = 785262938402.2509\n",
            "Ітерація 38: Функція втрат = 784421120448.0663\n",
            "Ітерація 39: Функція втрат = 783729462511.9628\n",
            "Знайдені параметри theta: [4663129.77281183  749741.97208073  295136.75966737  671425.59534973]\n"
          ]
        }
      ],
      "source": [
        "# Початкові параметри\n",
        "theta = np.zeros(X_train.shape[1])\n",
        "alpha = 0.1  # Швидкість навчання\n",
        "num_iterations = 40  # Кількість ітерацій\n",
        "\n",
        "theta, cost_history = gradient_descent(X_train, y_train, theta, alpha, num_iterations)\n",
        "print(\"Знайдені параметри theta:\", theta)"
      ]
    },
    {
      "cell_type": "markdown",
      "id": "e4549efb-1884-40ed-983e-76b628cab213",
      "metadata": {
        "id": "e4549efb-1884-40ed-983e-76b628cab213"
      },
      "source": [
        "## Візуалізуємо історію навчання моделі"
      ]
    },
    {
      "cell_type": "code",
      "execution_count": 14,
      "id": "3fa19e30-2133-45d6-92ba-9893421b0248",
      "metadata": {
        "colab": {
          "base_uri": "https://localhost:8080/",
          "height": 472
        },
        "id": "3fa19e30-2133-45d6-92ba-9893421b0248",
        "outputId": "577a01cb-06ca-4732-a367-1dccfaeabce0"
      },
      "outputs": [
        {
          "output_type": "display_data",
          "data": {
            "text/plain": [
              "<Figure size 640x480 with 1 Axes>"
            ],
            "image/png": "[encoded data removed]"
          },
          "metadata": {}
        }
      ],
      "source": [
        "plt.plot(range(num_iterations), cost_history)\n",
        "plt.xlabel(\"Кількість ітерацій\")\n",
        "plt.ylabel(\"Функція втрат\")\n",
        "plt.title(\"Збіжність градієнтного спуску\")\n",
        "plt.show()"
      ]
    },
    {
      "cell_type": "markdown",
      "id": "a612cec1-0486-4d02-9a66-98bb1a0810c6",
      "metadata": {
        "id": "a612cec1-0486-4d02-9a66-98bb1a0810c6"
      },
      "source": [
        "## Вираховуємо середньоквадратичну помилку моделі"
      ]
    },
    {
      "cell_type": "code",
      "execution_count": 15,
      "id": "76f95925-1819-49cf-8de8-eb7fe0773c44",
      "metadata": {
        "colab": {
          "base_uri": "https://localhost:8080/"
        },
        "id": "76f95925-1819-49cf-8de8-eb7fe0773c44",
        "outputId": "ed089691-6b54-486c-b07c-423eb4bc10ea"
      },
      "outputs": [
        {
          "output_type": "execute_result",
          "data": {
            "text/plain": [
              "1386327957615.3398"
            ]
          },
          "metadata": {},
          "execution_count": 15
        }
      ],
      "source": [
        "cost = compute_cost(X_test, y_test, theta)\n",
        "cost"
      ]
    },
    {
      "cell_type": "markdown",
      "id": "bc1df1fe-7341-46b2-b84a-25d530eac1fb",
      "metadata": {
        "id": "bc1df1fe-7341-46b2-b84a-25d530eac1fb"
      },
      "source": [
        "## Створюємо датафрейм, в який додамо наші результати предиктів"
      ]
    },
    {
      "cell_type": "code",
      "execution_count": 16,
      "id": "20cc6746-6163-4abb-9bc4-86083af793cf",
      "metadata": {
        "colab": {
          "base_uri": "https://localhost:8080/"
        },
        "id": "20cc6746-6163-4abb-9bc4-86083af793cf",
        "outputId": "08005231-ead2-4720-8dee-9c8fddbb7c04"
      },
      "outputs": [
        {
          "output_type": "execute_result",
          "data": {
            "text/plain": [
              "array([6291132.64559783, 6098364.46336875, 3509975.18947247,\n",
              "       4242188.4899741 , 3882558.41112573, 4836961.31268485,\n",
              "       5459397.98761471, 5976456.32660551, 3233336.66728142,\n",
              "       3446852.73867483, 8555350.43922427, 3473320.58528216,\n",
              "       3399319.78059605, 3585171.99977036, 3886016.39265312,\n",
              "       6443402.50929479, 2804546.95788529, 4587986.64271291,\n",
              "       4536116.91980209, 4187739.56884054, 4249104.45302887,\n",
              "       4873270.11872243, 3374768.11175159, 3827230.70668752,\n",
              "       5366032.48637524, 7294826.07184503, 3181466.9443706 ,\n",
              "       4888070.9287829 , 7077733.34243235, 3150345.11062411,\n",
              "       5233869.08152172, 3592087.96282513, 5925465.38699934,\n",
              "       4800652.50664728, 4564630.97948023, 5441347.973165  ,\n",
              "       4119775.94390456, 4013082.92586183, 3716575.2978111 ,\n",
              "       5214662.99612191, 5272666.98513576, 3368197.94684956,\n",
              "       6070700.61114964, 3965549.96778305, 4447088.18339465,\n",
              "       4147972.78127558, 5925465.38699934, 4517948.22886049,\n",
              "       4896625.7819551 , 3150345.11062411, 6435517.66228909,\n",
              "       3150345.11062411, 4799802.29918824, 4069289.41360469,\n",
              "       4172150.07612168, 3519470.35074998, 5839015.84881464,\n",
              "       3343113.29285319, 5143842.88531774, 3426983.63281515,\n",
              "       4550067.52240352, 4588955.52666383, 4339890.75604562,\n",
              "       3828109.48999218, 4366675.82496007, 3813398.78057797,\n",
              "       5732697.20477026, 3550592.18449647, 5818149.28315843,\n",
              "       4484247.19689127, 4836201.20587208, 4712473.97769888,\n",
              "       5017655.13541369, 7481557.07432399, 3041072.89435864,\n",
              "       5724023.67510618, 3768445.02072193, 3777968.75784505,\n",
              "       4587986.64271291, 4345927.93579574, 6450199.79585768,\n",
              "       3924054.18945439, 5752566.31062993, 4819671.40504791,\n",
              "       3101054.58593602, 7249112.20517622, 3481432.55394871,\n",
              "       3706201.35322894, 6816745.83776082, 7663191.20515814,\n",
              "       3972437.35499221, 5296872.85582747, 3997550.58483419,\n",
              "       3692369.42711939, 8955597.51309664, 4192897.96528601,\n",
              "       4928756.4343142 , 5856305.75645158, 4415087.5663435 ,\n",
              "       6533191.352515  , 3633583.74115379, 5441347.973165  ,\n",
              "       3540218.23991431, 6329289.11889098, 4988233.71658528,\n",
              "       5309825.99863237, 6325712.46087171, 5925465.38699934,\n",
              "       5960045.20227322])"
            ]
          },
          "metadata": {},
          "execution_count": 16
        }
      ],
      "source": [
        "y_pred = hypothesis(X_test, theta)\n",
        "y_pred"
      ]
    },
    {
      "cell_type": "code",
      "execution_count": 17,
      "id": "a0f4bf6e-e616-44c6-99fa-34246c0c8e98",
      "metadata": {
        "colab": {
          "base_uri": "https://localhost:8080/",
          "height": 206
        },
        "id": "a0f4bf6e-e616-44c6-99fa-34246c0c8e98",
        "outputId": "740db8c5-8780-4f73-92b3-0497ff8bd20e"
      },
      "outputs": [
        {
          "output_type": "execute_result",
          "data": {
            "text/plain": [
              "   intercept      area  bedrooms  bathrooms        y    prediction\n",
              "0        1.0  0.345668  1.403419   1.421812  4060000  6.291133e+06\n",
              "1        1.0  0.622401  0.047278   1.421812  6650000  6.098364e+06\n",
              "2        1.0 -0.512207 -1.308863  -0.570187  3710000  3.509975e+06\n",
              "3        1.0 -0.069433  0.047278  -0.570187  6440000  4.242188e+06\n",
              "4        1.0 -0.549105  0.047278  -0.570187  2800000  3.882558e+06"
            ],
            "text/html": [
              "\n",
              "  <div id=\"df-7aabed51-487b-412b-8500-993188b2593c\" class=\"colab-df-container\">\n",
              "    <div>\n",
              "<style scoped>\n",
              "    .dataframe tbody tr th:only-of-type {\n",
              "        vertical-align: middle;\n",
              "    }\n",
              "\n",
              "    .dataframe tbody tr th {\n",
              "        vertical-align: top;\n",
              "    }\n",
              "\n",
              "    .dataframe thead th {\n",
              "        text-align: right;\n",
              "    }\n",
              "</style>\n",
              "<table border=\"1\" class=\"dataframe\">\n",
              "  <thead>\n",
              "    <tr style=\"text-align: right;\">\n",
              "      <th></th>\n",
              "      <th>intercept</th>\n",
              "      <th>area</th>\n",
              "      <th>bedrooms</th>\n",
              "      <th>bathrooms</th>\n",
              "      <th>y</th>\n",
              "      <th>prediction</th>\n",
              "    </tr>\n",
              "  </thead>\n",
              "  <tbody>\n",
              "    <tr>\n",
              "      <th>0</th>\n",
              "      <td>1.0</td>\n",
              "      <td>0.345668</td>\n",
              "      <td>1.403419</td>\n",
              "      <td>1.421812</td>\n",
              "      <td>4060000</td>\n",
              "      <td>6.291133e+06</td>\n",
              "    </tr>\n",
              "    <tr>\n",
              "      <th>1</th>\n",
              "      <td>1.0</td>\n",
              "      <td>0.622401</td>\n",
              "      <td>0.047278</td>\n",
              "      <td>1.421812</td>\n",
              "      <td>6650000</td>\n",
              "      <td>6.098364e+06</td>\n",
              "    </tr>\n",
              "    <tr>\n",
              "      <th>2</th>\n",
              "      <td>1.0</td>\n",
              "      <td>-0.512207</td>\n",
              "      <td>-1.308863</td>\n",
              "      <td>-0.570187</td>\n",
              "      <td>3710000</td>\n",
              "      <td>3.509975e+06</td>\n",
              "    </tr>\n",
              "    <tr>\n",
              "      <th>3</th>\n",
              "      <td>1.0</td>\n",
              "      <td>-0.069433</td>\n",
              "      <td>0.047278</td>\n",
              "      <td>-0.570187</td>\n",
              "      <td>6440000</td>\n",
              "      <td>4.242188e+06</td>\n",
              "    </tr>\n",
              "    <tr>\n",
              "      <th>4</th>\n",
              "      <td>1.0</td>\n",
              "      <td>-0.549105</td>\n",
              "      <td>0.047278</td>\n",
              "      <td>-0.570187</td>\n",
              "      <td>2800000</td>\n",
              "      <td>3.882558e+06</td>\n",
              "    </tr>\n",
              "  </tbody>\n",
              "</table>\n",
              "</div>\n",
              "    <div class=\"colab-df-buttons\">\n",
              "\n",
              "  <div class=\"colab-df-container\">\n",
              "    <button class=\"colab-df-convert\" onclick=\"convertToInteractive('df-7aabed51-487b-412b-8500-993188b2593c')\"\n",
              "            title=\"Convert this dataframe to an interactive table.\"\n",
              "            style=\"display:none;\">\n",
              "\n",
              "  <svg xmlns=\"http://www.w3.org/2000/svg\" height=\"24px\" viewBox=\"0 -960 960 960\">\n",
              "    <path d=\"M120-120v-720h720v720H120Zm60-500h600v-160H180v160Zm220 220h160v-160H400v160Zm0 220h160v-160H400v160ZM180-400h160v-160H180v160Zm440 0h160v-160H620v160ZM180-180h160v-160H180v160Zm440 0h160v-160H620v160Z\"/>\n",
              "  </svg>\n",
              "    </button>\n",
              "\n",
              "  <style>\n",
              "    .colab-df-container {\n",
              "      display:flex;\n",
              "      gap: 12px;\n",
              "    }\n",
              "\n",
              "    .colab-df-convert {\n",
              "      background-color: #E8F0FE;\n",
              "      border: none;\n",
              "      border-radius: 50%;\n",
              "      cursor: pointer;\n",
              "      display: none;\n",
              "      fill: #1967D2;\n",
              "      height: 32px;\n",
              "      padding: 0 0 0 0;\n",
              "      width: 32px;\n",
              "    }\n",
              "\n",
              "    .colab-df-convert:hover {\n",
              "      background-color: #E2EBFA;\n",
              "      box-shadow: 0px 1px 2px rgba(60, 64, 67, 0.3), 0px 1px 3px 1px rgba(60, 64, 67, 0.15);\n",
              "      fill: #174EA6;\n",
              "    }\n",
              "\n",
              "    .colab-df-buttons div {\n",
              "      margin-bottom: 4px;\n",
              "    }\n",
              "\n",
              "    [theme=dark] .colab-df-convert {\n",
              "      background-color: #3B4455;\n",
              "      fill: #D2E3FC;\n",
              "    }\n",
              "\n",
              "    [theme=dark] .colab-df-convert:hover {\n",
              "      background-color: #434B5C;\n",
              "      box-shadow: 0px 1px 3px 1px rgba(0, 0, 0, 0.15);\n",
              "      filter: drop-shadow(0px 1px 2px rgba(0, 0, 0, 0.3));\n",
              "      fill: #FFFFFF;\n",
              "    }\n",
              "  </style>\n",
              "\n",
              "    <script>\n",
              "      const buttonEl =\n",
              "        document.querySelector('#df-7aabed51-487b-412b-8500-993188b2593c button.colab-df-convert');\n",
              "      buttonEl.style.display =\n",
              "        google.colab.kernel.accessAllowed ? 'block' : 'none';\n",
              "\n",
              "      async function convertToInteractive(key) {\n",
              "        const element = document.querySelector('#df-7aabed51-487b-412b-8500-993188b2593c');\n",
              "        const dataTable =\n",
              "          await google.colab.kernel.invokeFunction('convertToInteractive',\n",
              "                                                    [key], {});\n",
              "        if (!dataTable) return;\n",
              "\n",
              "        const docLinkHtml = 'Like what you see? Visit the ' +\n",
              "          '<a target=\"_blank\" href=https://colab.research.google.com/notebooks/data_table.ipynb>data table notebook</a>'\n",
              "          + ' to learn more about interactive tables.';\n",
              "        element.innerHTML = '';\n",
              "        dataTable['output_type'] = 'display_data';\n",
              "        await google.colab.output.renderOutput(dataTable, element);\n",
              "        const docLink = document.createElement('div');\n",
              "        docLink.innerHTML = docLinkHtml;\n",
              "        element.appendChild(docLink);\n",
              "      }\n",
              "    </script>\n",
              "  </div>\n",
              "\n",
              "\n",
              "<div id=\"df-a87aead4-9101-418b-8c85-ec5a49b3b9ae\">\n",
              "  <button class=\"colab-df-quickchart\" onclick=\"quickchart('df-a87aead4-9101-418b-8c85-ec5a49b3b9ae')\"\n",
              "            title=\"Suggest charts\"\n",
              "            style=\"display:none;\">\n",
              "\n",
              "<svg xmlns=\"http://www.w3.org/2000/svg\" height=\"24px\"viewBox=\"0 0 24 24\"\n",
              "     width=\"24px\">\n",
              "    <g>\n",
              "        <path d=\"M19 3H5c-1.1 0-2 .9-2 2v14c0 1.1.9 2 2 2h14c1.1 0 2-.9 2-2V5c0-1.1-.9-2-2-2zM9 17H7v-7h2v7zm4 0h-2V7h2v10zm4 0h-2v-4h2v4z\"/>\n",
              "    </g>\n",
              "</svg>\n",
              "  </button>\n",
              "\n",
              "<style>\n",
              "  .colab-df-quickchart {\n",
              "      --bg-color: #E8F0FE;\n",
              "      --fill-color: #1967D2;\n",
              "      --hover-bg-color: #E2EBFA;\n",
              "      --hover-fill-color: #174EA6;\n",
              "      --disabled-fill-color: #AAA;\n",
              "      --disabled-bg-color: #DDD;\n",
              "  }\n",
              "\n",
              "  [theme=dark] .colab-df-quickchart {\n",
              "      --bg-color: #3B4455;\n",
              "      --fill-color: #D2E3FC;\n",
              "      --hover-bg-color: #434B5C;\n",
              "      --hover-fill-color: #FFFFFF;\n",
              "      --disabled-bg-color: #3B4455;\n",
              "      --disabled-fill-color: #666;\n",
              "  }\n",
              "\n",
              "  .colab-df-quickchart {\n",
              "    background-color: var(--bg-color);\n",
              "    border: none;\n",
              "    border-radius: 50%;\n",
              "    cursor: pointer;\n",
              "    display: none;\n",
              "    fill: var(--fill-color);\n",
              "    height: 32px;\n",
              "    padding: 0;\n",
              "    width: 32px;\n",
              "  }\n",
              "\n",
              "  .colab-df-quickchart:hover {\n",
              "    background-color: var(--hover-bg-color);\n",
              "    box-shadow: 0 1px 2px rgba(60, 64, 67, 0.3), 0 1px 3px 1px rgba(60, 64, 67, 0.15);\n",
              "    fill: var(--button-hover-fill-color);\n",
              "  }\n",
              "\n",
              "  .colab-df-quickchart-complete:disabled,\n",
              "  .colab-df-quickchart-complete:disabled:hover {\n",
              "    background-color: var(--disabled-bg-color);\n",
              "    fill: var(--disabled-fill-color);\n",
              "    box-shadow: none;\n",
              "  }\n",
              "\n",
              "  .colab-df-spinner {\n",
              "    border: 2px solid var(--fill-color);\n",
              "    border-color: transparent;\n",
              "    border-bottom-color: var(--fill-color);\n",
              "    animation:\n",
              "      spin 1s steps(1) infinite;\n",
              "  }\n",
              "\n",
              "  @keyframes spin {\n",
              "    0% {\n",
              "      border-color: transparent;\n",
              "      border-bottom-color: var(--fill-color);\n",
              "      border-left-color: var(--fill-color);\n",
              "    }\n",
              "    20% {\n",
              "      border-color: transparent;\n",
              "      border-left-color: var(--fill-color);\n",
              "      border-top-color: var(--fill-color);\n",
              "    }\n",
              "    30% {\n",
              "      border-color: transparent;\n",
              "      border-left-color: var(--fill-color);\n",
              "      border-top-color: var(--fill-color);\n",
              "      border-right-color: var(--fill-color);\n",
              "    }\n",
              "    40% {\n",
              "      border-color: transparent;\n",
              "      border-right-color: var(--fill-color);\n",
              "      border-top-color: var(--fill-color);\n",
              "    }\n",
              "    60% {\n",
              "      border-color: transparent;\n",
              "      border-right-color: var(--fill-color);\n",
              "    }\n",
              "    80% {\n",
              "      border-color: transparent;\n",
              "      border-right-color: var(--fill-color);\n",
              "      border-bottom-color: var(--fill-color);\n",
              "    }\n",
              "    90% {\n",
              "      border-color: transparent;\n",
              "      border-bottom-color: var(--fill-color);\n",
              "    }\n",
              "  }\n",
              "</style>\n",
              "\n",
              "  <script>\n",
              "    async function quickchart(key) {\n",
              "      const quickchartButtonEl =\n",
              "        document.querySelector('#' + key + ' button');\n",
              "      quickchartButtonEl.disabled = true;  // To prevent multiple clicks.\n",
              "      quickchartButtonEl.classList.add('colab-df-spinner');\n",
              "      try {\n",
              "        const charts = await google.colab.kernel.invokeFunction(\n",
              "            'suggestCharts', [key], {});\n",
              "      } catch (error) {\n",
              "        console.error('Error during call to suggestCharts:', error);\n",
              "      }\n",
              "      quickchartButtonEl.classList.remove('colab-df-spinner');\n",
              "      quickchartButtonEl.classList.add('colab-df-quickchart-complete');\n",
              "    }\n",
              "    (() => {\n",
              "      let quickchartButtonEl =\n",
              "        document.querySelector('#df-a87aead4-9101-418b-8c85-ec5a49b3b9ae button');\n",
              "      quickchartButtonEl.style.display =\n",
              "        google.colab.kernel.accessAllowed ? 'block' : 'none';\n",
              "    })();\n",
              "  </script>\n",
              "</div>\n",
              "    </div>\n",
              "  </div>\n"
            ],
            "application/vnd.google.colaboratory.intrinsic+json": {
              "type": "dataframe",
              "variable_name": "df_with_predictions",
              "summary": "{\n  \"name\": \"df_with_predictions\",\n  \"rows\": 109,\n  \"fields\": [\n    {\n      \"column\": \"intercept\",\n      \"properties\": {\n        \"dtype\": \"number\",\n        \"std\": 0.0,\n        \"min\": 1.0,\n        \"max\": 1.0,\n        \"num_unique_values\": 1,\n        \"samples\": [\n          1.0\n        ],\n        \"semantic_type\": \"\",\n        \"description\": \"\"\n      }\n    },\n    {\n      \"column\": \"area\",\n      \"properties\": {\n        \"dtype\": \"number\",\n        \"std\": 0.9396681884725209,\n        \"min\": -1.5914685939008932,\n        \"max\": 3.712594543260859,\n        \"num_unique_values\": 85,\n        \"samples\": [\n          -0.6690228309162407\n        ],\n        \"semantic_type\": \"\",\n        \"description\": \"\"\n      }\n    },\n    {\n      \"column\": \"bedrooms\",\n      \"properties\": {\n        \"dtype\": \"number\",\n        \"std\": 0.9499337683947848,\n        \"min\": -1.308862733990682,\n        \"max\": 2.7595604030335856,\n        \"num_unique_values\": 4,\n        \"samples\": [\n          0.047278311684073836\n        ],\n        \"semantic_type\": \"\",\n        \"description\": \"\"\n      }\n    },\n    {\n      \"column\": \"bathrooms\",\n      \"properties\": {\n        \"dtype\": \"number\",\n        \"std\": 1.1709931141167869,\n        \"min\": -0.5701867118926005,\n        \"max\": 3.4138101853056977,\n        \"num_unique_values\": 3,\n        \"samples\": [\n          1.4218117367065486\n        ],\n        \"semantic_type\": \"\",\n        \"description\": \"\"\n      }\n    },\n    {\n      \"column\": \"y\",\n      \"properties\": {\n        \"dtype\": \"number\",\n        \"std\": 2258621,\n        \"min\": 1750000,\n        \"max\": 13300000,\n        \"num_unique_values\": 81,\n        \"samples\": [\n          3290000\n        ],\n        \"semantic_type\": \"\",\n        \"description\": \"\"\n      }\n    },\n    {\n      \"column\": \"prediction\",\n      \"properties\": {\n        \"dtype\": \"number\",\n        \"std\": 1263163.4950335585,\n        \"min\": 2804546.9578852938,\n        \"max\": 8955597.513096642,\n        \"num_unique_values\": 103,\n        \"samples\": [\n          5233869.081521716\n        ],\n        \"semantic_type\": \"\",\n        \"description\": \"\"\n      }\n    }\n  ]\n}"
            }
          },
          "metadata": {},
          "execution_count": 17
        }
      ],
      "source": [
        "columns = X.columns.insert(0, \"intercept\")\n",
        "df_with_predictions = pd.DataFrame(X_test, columns=columns)\n",
        "df_with_predictions[\"y\"] = y_test\n",
        "df_with_predictions[\"prediction\"] = y_pred\n",
        "df_with_predictions.head()"
      ]
    },
    {
      "cell_type": "markdown",
      "id": "c1abb515-1105-40c7-a6a6-ee928620777f",
      "metadata": {
        "id": "c1abb515-1105-40c7-a6a6-ee928620777f"
      },
      "source": [
        "## Візуалізуємо відхилення результатів предикту від точних значень"
      ]
    },
    {
      "cell_type": "code",
      "execution_count": 18,
      "id": "09fa368e-a25d-43b6-8772-2affcc331c3c",
      "metadata": {
        "colab": {
          "base_uri": "https://localhost:8080/",
          "height": 555
        },
        "id": "09fa368e-a25d-43b6-8772-2affcc331c3c",
        "outputId": "599a73d5-bc56-4bcd-fa4d-a435f3fe0b8c"
      },
      "outputs": [
        {
          "output_type": "execute_result",
          "data": {
            "text/plain": [
              "[<matplotlib.lines.Line2D at 0x797a6b1b0490>]"
            ]
          },
          "metadata": {},
          "execution_count": 18
        },
        {
          "output_type": "display_data",
          "data": {
            "text/plain": [
              "<Figure size 800x600 with 1 Axes>"
            ],
            "image/png": "[encoded data removed]"
          },
          "metadata": {}
        }
      ],
      "source": [
        "plt.figure(figsize=(8, 6))\n",
        "plt.scatter(df_with_predictions.index, df_with_predictions['y'], color='blue', label='Actual values', alpha=0.6)\n",
        "plt.plot(df_with_predictions.index, df_with_predictions['prediction'], color='red', label='Prediction', linewidth=2)"
      ]
    },
    {
      "cell_type": "markdown",
      "id": "5aae9319-5832-4c45-a397-77412c79ae55",
      "metadata": {
        "id": "5aae9319-5832-4c45-a397-77412c79ae55"
      },
      "source": [
        "## Знайдемо ці ж параметри за допомогою аналітичного рішення."
      ]
    },
    {
      "cell_type": "code",
      "execution_count": 19,
      "id": "6b7e236a-cf79-4d49-a2e1-4de6b70b9c42",
      "metadata": {
        "id": "6b7e236a-cf79-4d49-a2e1-4de6b70b9c42"
      },
      "outputs": [],
      "source": [
        "def normal_equation(X, y):\n",
        "    theta = np.linalg.inv(X.T.dot(X)).dot(X.T).dot(y)\n",
        "    return theta"
      ]
    },
    {
      "cell_type": "code",
      "execution_count": 20,
      "id": "06016a1f-991b-4c6f-8331-e3c7052434c0",
      "metadata": {
        "colab": {
          "base_uri": "https://localhost:8080/"
        },
        "id": "06016a1f-991b-4c6f-8331-e3c7052434c0",
        "outputId": "0a867126-9fec-45e0-8678-3a01bc2257b9"
      },
      "outputs": [
        {
          "output_type": "stream",
          "name": "stdout",
          "text": [
            "[4736303.16152964  749023.05142651  265604.85843734  714016.44847748]\n"
          ]
        }
      ],
      "source": [
        "theta_normal = normal_equation(X_train, y_train)\n",
        "print(theta_normal)"
      ]
    },
    {
      "cell_type": "code",
      "execution_count": 21,
      "id": "a953aec7-1114-49c0-87a7-e6fc5a586847",
      "metadata": {
        "colab": {
          "base_uri": "https://localhost:8080/"
        },
        "id": "a953aec7-1114-49c0-87a7-e6fc5a586847",
        "outputId": "f10778e2-3fa0-4f33-b80e-747178396c8e"
      },
      "outputs": [
        {
          "output_type": "execute_result",
          "data": {
            "text/plain": [
              "1375020239654.5261"
            ]
          },
          "metadata": {},
          "execution_count": 21
        }
      ],
      "source": [
        "cost_normal = compute_cost(X_test, y_test, theta_normal)\n",
        "cost_normal"
      ]
    },
    {
      "cell_type": "code",
      "execution_count": 22,
      "id": "7d5112d6-b769-4bf1-a571-d168fb6cdd67",
      "metadata": {
        "colab": {
          "base_uri": "https://localhost:8080/"
        },
        "id": "7d5112d6-b769-4bf1-a571-d168fb6cdd67",
        "outputId": "750a89c4-f951-4003-dee5-eff184c33d38"
      },
      "outputs": [
        {
          "output_type": "execute_result",
          "data": {
            "text/plain": [
              "array([6383168.05981191, 6230250.35140427, 3597885.28090091,\n",
              "       4289730.8386382 , 3930445.60575177, 4883933.33918115,\n",
              "       5505773.16533075, 6068793.48103628, 3321512.02483442,\n",
              "       3495157.72744705, 8731338.12527606, 3561265.8244721 ,\n",
              "       3487335.97847432, 3633344.35548029, 3933900.2714526 ,\n",
              "       6661080.95290715, 2893133.47793137, 4635197.40872131,\n",
              "       4583377.42320885, 4274999.75826381, 4296640.17003987,\n",
              "       4920207.32903988, 3462807.85199841, 3875170.95453847,\n",
              "       5412497.19140831, 7425564.68389184, 3269692.03932196,\n",
              "       5021117.35611339, 7122556.71331971, 3238600.04801448,\n",
              "       5366583.9261965 , 3640253.68688196, 6057517.06636272,\n",
              "       4847659.34932243, 4572198.51082701, 5573863.86824636,\n",
              "       4167435.67282878, 4021179.33154445, 3764621.65211188,\n",
              "       5307730.62714319, 5319221.21748587, 3456243.98716684,\n",
              "       6202613.02579763, 4013357.58257172, 4534099.68582614,\n",
              "       4235271.10270425, 6057517.06636272, 4525560.52386579,\n",
              "       4983206.22693418, 3238600.04801448, 6567080.25723531,\n",
              "       3238600.04801448, 4886475.58731091, 4116997.55359665,\n",
              "       4180093.95378268, 3567705.7071645 , 5971150.42384194,\n",
              "       3391517.75642212, 5150855.01571622, 3514973.30408096,\n",
              "       4723103.68827084, 4722288.7729915 , 4427005.04910038,\n",
              "       3915714.52537737, 4414098.80386812, 3861352.29173515,\n",
              "       5904599.35795508, 3598797.69847198, 5824514.82737829,\n",
              "       4531557.43769638, 4969297.37060092, 4759565.37395123,\n",
              "       5104119.52646327, 7612116.63173672, 3129432.61186821,\n",
              "       5816602.88487561, 3816441.63762434, 3865621.87271532,\n",
              "       4635197.40872131, 4393370.80966314, 6542082.68205014,\n",
              "       3971901.59416174, 5884783.78132116, 4866660.010677  ,\n",
              "       3149691.15736394, 7466018.0612008 , 3529704.38445536,\n",
              "       3754257.65500938, 6908277.24633824, 7840034.37446163,\n",
              "       3940907.10514599, 5343403.87739169, 4084993.1447181 ,\n",
              "       3740438.99220606, 9091535.77573356, 4200821.94798767,\n",
              "       4935974.80912452, 5988423.7523461 , 4462464.12367976,\n",
              "       6624994.65887009, 3681709.67529193, 5573863.86824636,\n",
              "       3588433.70136949, 6547076.98477972, 4995395.05917882,\n",
              "       5316678.96935611, 6417714.71682023, 6057517.06636272,\n",
              "       6092063.72337103])"
            ]
          },
          "metadata": {},
          "execution_count": 22
        }
      ],
      "source": [
        "y_normal_pred = hypothesis(X_test, theta_normal)\n",
        "y_normal_pred"
      ]
    },
    {
      "cell_type": "code",
      "execution_count": 23,
      "id": "a2ebefcf-56f4-486e-b815-1a71c079440d",
      "metadata": {
        "colab": {
          "base_uri": "https://localhost:8080/",
          "height": 206
        },
        "id": "a2ebefcf-56f4-486e-b815-1a71c079440d",
        "outputId": "33ca60f0-4900-4074-a9f1-b9ca080a4e11"
      },
      "outputs": [
        {
          "output_type": "execute_result",
          "data": {
            "text/plain": [
              "   intercept      area  bedrooms  bathrooms        y    prediction\n",
              "0        1.0  0.345668  1.403419   1.421812  4060000  6.383168e+06\n",
              "1        1.0  0.622401  0.047278   1.421812  6650000  6.230250e+06\n",
              "2        1.0 -0.512207 -1.308863  -0.570187  3710000  3.597885e+06\n",
              "3        1.0 -0.069433  0.047278  -0.570187  6440000  4.289731e+06\n",
              "4        1.0 -0.549105  0.047278  -0.570187  2800000  3.930446e+06"
            ],
            "text/html": [
              "\n",
              "  <div id=\"df-dca2327f-da1e-4f3d-8f15-51065fdd981b\" class=\"colab-df-container\">\n",
              "    <div>\n",
              "<style scoped>\n",
              "    .dataframe tbody tr th:only-of-type {\n",
              "        vertical-align: middle;\n",
              "    }\n",
              "\n",
              "    .dataframe tbody tr th {\n",
              "        vertical-align: top;\n",
              "    }\n",
              "\n",
              "    .dataframe thead th {\n",
              "        text-align: right;\n",
              "    }\n",
              "</style>\n",
              "<table border=\"1\" class=\"dataframe\">\n",
              "  <thead>\n",
              "    <tr style=\"text-align: right;\">\n",
              "      <th></th>\n",
              "      <th>intercept</th>\n",
              "      <th>area</th>\n",
              "      <th>bedrooms</th>\n",
              "      <th>bathrooms</th>\n",
              "      <th>y</th>\n",
              "      <th>prediction</th>\n",
              "    </tr>\n",
              "  </thead>\n",
              "  <tbody>\n",
              "    <tr>\n",
              "      <th>0</th>\n",
              "      <td>1.0</td>\n",
              "      <td>0.345668</td>\n",
              "      <td>1.403419</td>\n",
              "      <td>1.421812</td>\n",
              "      <td>4060000</td>\n",
              "      <td>6.383168e+06</td>\n",
              "    </tr>\n",
              "    <tr>\n",
              "      <th>1</th>\n",
              "      <td>1.0</td>\n",
              "      <td>0.622401</td>\n",
              "      <td>0.047278</td>\n",
              "      <td>1.421812</td>\n",
              "      <td>6650000</td>\n",
              "      <td>6.230250e+06</td>\n",
              "    </tr>\n",
              "    <tr>\n",
              "      <th>2</th>\n",
              "      <td>1.0</td>\n",
              "      <td>-0.512207</td>\n",
              "      <td>-1.308863</td>\n",
              "      <td>-0.570187</td>\n",
              "      <td>3710000</td>\n",
              "      <td>3.597885e+06</td>\n",
              "    </tr>\n",
              "    <tr>\n",
              "      <th>3</th>\n",
              "      <td>1.0</td>\n",
              "      <td>-0.069433</td>\n",
              "      <td>0.047278</td>\n",
              "      <td>-0.570187</td>\n",
              "      <td>6440000</td>\n",
              "      <td>4.289731e+06</td>\n",
              "    </tr>\n",
              "    <tr>\n",
              "      <th>4</th>\n",
              "      <td>1.0</td>\n",
              "      <td>-0.549105</td>\n",
              "      <td>0.047278</td>\n",
              "      <td>-0.570187</td>\n",
              "      <td>2800000</td>\n",
              "      <td>3.930446e+06</td>\n",
              "    </tr>\n",
              "  </tbody>\n",
              "</table>\n",
              "</div>\n",
              "    <div class=\"colab-df-buttons\">\n",
              "\n",
              "  <div class=\"colab-df-container\">\n",
              "    <button class=\"colab-df-convert\" onclick=\"convertToInteractive('df-dca2327f-da1e-4f3d-8f15-51065fdd981b')\"\n",
              "            title=\"Convert this dataframe to an interactive table.\"\n",
              "            style=\"display:none;\">\n",
              "\n",
              "  <svg xmlns=\"http://www.w3.org/2000/svg\" height=\"24px\" viewBox=\"0 -960 960 960\">\n",
              "    <path d=\"M120-120v-720h720v720H120Zm60-500h600v-160H180v160Zm220 220h160v-160H400v160Zm0 220h160v-160H400v160ZM180-400h160v-160H180v160Zm440 0h160v-160H620v160ZM180-180h160v-160H180v160Zm440 0h160v-160H620v160Z\"/>\n",
              "  </svg>\n",
              "    </button>\n",
              "\n",
              "  <style>\n",
              "    .colab-df-container {\n",
              "      display:flex;\n",
              "      gap: 12px;\n",
              "    }\n",
              "\n",
              "    .colab-df-convert {\n",
              "      background-color: #E8F0FE;\n",
              "      border: none;\n",
              "      border-radius: 50%;\n",
              "      cursor: pointer;\n",
              "      display: none;\n",
              "      fill: #1967D2;\n",
              "      height: 32px;\n",
              "      padding: 0 0 0 0;\n",
              "      width: 32px;\n",
              "    }\n",
              "\n",
              "    .colab-df-convert:hover {\n",
              "      background-color: #E2EBFA;\n",
              "      box-shadow: 0px 1px 2px rgba(60, 64, 67, 0.3), 0px 1px 3px 1px rgba(60, 64, 67, 0.15);\n",
              "      fill: #174EA6;\n",
              "    }\n",
              "\n",
              "    .colab-df-buttons div {\n",
              "      margin-bottom: 4px;\n",
              "    }\n",
              "\n",
              "    [theme=dark] .colab-df-convert {\n",
              "      background-color: #3B4455;\n",
              "      fill: #D2E3FC;\n",
              "    }\n",
              "\n",
              "    [theme=dark] .colab-df-convert:hover {\n",
              "      background-color: #434B5C;\n",
              "      box-shadow: 0px 1px 3px 1px rgba(0, 0, 0, 0.15);\n",
              "      filter: drop-shadow(0px 1px 2px rgba(0, 0, 0, 0.3));\n",
              "      fill: #FFFFFF;\n",
              "    }\n",
              "  </style>\n",
              "\n",
              "    <script>\n",
              "      const buttonEl =\n",
              "        document.querySelector('#df-dca2327f-da1e-4f3d-8f15-51065fdd981b button.colab-df-convert');\n",
              "      buttonEl.style.display =\n",
              "        google.colab.kernel.accessAllowed ? 'block' : 'none';\n",
              "\n",
              "      async function convertToInteractive(key) {\n",
              "        const element = document.querySelector('#df-dca2327f-da1e-4f3d-8f15-51065fdd981b');\n",
              "        const dataTable =\n",
              "          await google.colab.kernel.invokeFunction('convertToInteractive',\n",
              "                                                    [key], {});\n",
              "        if (!dataTable) return;\n",
              "\n",
              "        const docLinkHtml = 'Like what you see? Visit the ' +\n",
              "          '<a target=\"_blank\" href=https://colab.research.google.com/notebooks/data_table.ipynb>data table notebook</a>'\n",
              "          + ' to learn more about interactive tables.';\n",
              "        element.innerHTML = '';\n",
              "        dataTable['output_type'] = 'display_data';\n",
              "        await google.colab.output.renderOutput(dataTable, element);\n",
              "        const docLink = document.createElement('div');\n",
              "        docLink.innerHTML = docLinkHtml;\n",
              "        element.appendChild(docLink);\n",
              "      }\n",
              "    </script>\n",
              "  </div>\n",
              "\n",
              "\n",
              "<div id=\"df-4fbd16a6-e837-4b81-be6e-6f6715a1a955\">\n",
              "  <button class=\"colab-df-quickchart\" onclick=\"quickchart('df-4fbd16a6-e837-4b81-be6e-6f6715a1a955')\"\n",
              "            title=\"Suggest charts\"\n",
              "            style=\"display:none;\">\n",
              "\n",
              "<svg xmlns=\"http://www.w3.org/2000/svg\" height=\"24px\"viewBox=\"0 0 24 24\"\n",
              "     width=\"24px\">\n",
              "    <g>\n",
              "        <path d=\"M19 3H5c-1.1 0-2 .9-2 2v14c0 1.1.9 2 2 2h14c1.1 0 2-.9 2-2V5c0-1.1-.9-2-2-2zM9 17H7v-7h2v7zm4 0h-2V7h2v10zm4 0h-2v-4h2v4z\"/>\n",
              "    </g>\n",
              "</svg>\n",
              "  </button>\n",
              "\n",
              "<style>\n",
              "  .colab-df-quickchart {\n",
              "      --bg-color: #E8F0FE;\n",
              "      --fill-color: #1967D2;\n",
              "      --hover-bg-color: #E2EBFA;\n",
              "      --hover-fill-color: #174EA6;\n",
              "      --disabled-fill-color: #AAA;\n",
              "      --disabled-bg-color: #DDD;\n",
              "  }\n",
              "\n",
              "  [theme=dark] .colab-df-quickchart {\n",
              "      --bg-color: #3B4455;\n",
              "      --fill-color: #D2E3FC;\n",
              "      --hover-bg-color: #434B5C;\n",
              "      --hover-fill-color: #FFFFFF;\n",
              "      --disabled-bg-color: #3B4455;\n",
              "      --disabled-fill-color: #666;\n",
              "  }\n",
              "\n",
              "  .colab-df-quickchart {\n",
              "    background-color: var(--bg-color);\n",
              "    border: none;\n",
              "    border-radius: 50%;\n",
              "    cursor: pointer;\n",
              "    display: none;\n",
              "    fill: var(--fill-color);\n",
              "    height: 32px;\n",
              "    padding: 0;\n",
              "    width: 32px;\n",
              "  }\n",
              "\n",
              "  .colab-df-quickchart:hover {\n",
              "    background-color: var(--hover-bg-color);\n",
              "    box-shadow: 0 1px 2px rgba(60, 64, 67, 0.3), 0 1px 3px 1px rgba(60, 64, 67, 0.15);\n",
              "    fill: var(--button-hover-fill-color);\n",
              "  }\n",
              "\n",
              "  .colab-df-quickchart-complete:disabled,\n",
              "  .colab-df-quickchart-complete:disabled:hover {\n",
              "    background-color: var(--disabled-bg-color);\n",
              "    fill: var(--disabled-fill-color);\n",
              "    box-shadow: none;\n",
              "  }\n",
              "\n",
              "  .colab-df-spinner {\n",
              "    border: 2px solid var(--fill-color);\n",
              "    border-color: transparent;\n",
              "    border-bottom-color: var(--fill-color);\n",
              "    animation:\n",
              "      spin 1s steps(1) infinite;\n",
              "  }\n",
              "\n",
              "  @keyframes spin {\n",
              "    0% {\n",
              "      border-color: transparent;\n",
              "      border-bottom-color: var(--fill-color);\n",
              "      border-left-color: var(--fill-color);\n",
              "    }\n",
              "    20% {\n",
              "      border-color: transparent;\n",
              "      border-left-color: var(--fill-color);\n",
              "      border-top-color: var(--fill-color);\n",
              "    }\n",
              "    30% {\n",
              "      border-color: transparent;\n",
              "      border-left-color: var(--fill-color);\n",
              "      border-top-color: var(--fill-color);\n",
              "      border-right-color: var(--fill-color);\n",
              "    }\n",
              "    40% {\n",
              "      border-color: transparent;\n",
              "      border-right-color: var(--fill-color);\n",
              "      border-top-color: var(--fill-color);\n",
              "    }\n",
              "    60% {\n",
              "      border-color: transparent;\n",
              "      border-right-color: var(--fill-color);\n",
              "    }\n",
              "    80% {\n",
              "      border-color: transparent;\n",
              "      border-right-color: var(--fill-color);\n",
              "      border-bottom-color: var(--fill-color);\n",
              "    }\n",
              "    90% {\n",
              "      border-color: transparent;\n",
              "      border-bottom-color: var(--fill-color);\n",
              "    }\n",
              "  }\n",
              "</style>\n",
              "\n",
              "  <script>\n",
              "    async function quickchart(key) {\n",
              "      const quickchartButtonEl =\n",
              "        document.querySelector('#' + key + ' button');\n",
              "      quickchartButtonEl.disabled = true;  // To prevent multiple clicks.\n",
              "      quickchartButtonEl.classList.add('colab-df-spinner');\n",
              "      try {\n",
              "        const charts = await google.colab.kernel.invokeFunction(\n",
              "            'suggestCharts', [key], {});\n",
              "      } catch (error) {\n",
              "        console.error('Error during call to suggestCharts:', error);\n",
              "      }\n",
              "      quickchartButtonEl.classList.remove('colab-df-spinner');\n",
              "      quickchartButtonEl.classList.add('colab-df-quickchart-complete');\n",
              "    }\n",
              "    (() => {\n",
              "      let quickchartButtonEl =\n",
              "        document.querySelector('#df-4fbd16a6-e837-4b81-be6e-6f6715a1a955 button');\n",
              "      quickchartButtonEl.style.display =\n",
              "        google.colab.kernel.accessAllowed ? 'block' : 'none';\n",
              "    })();\n",
              "  </script>\n",
              "</div>\n",
              "    </div>\n",
              "  </div>\n"
            ],
            "application/vnd.google.colaboratory.intrinsic+json": {
              "type": "dataframe",
              "variable_name": "df_with_normal_predictions",
              "summary": "{\n  \"name\": \"df_with_normal_predictions\",\n  \"rows\": 109,\n  \"fields\": [\n    {\n      \"column\": \"intercept\",\n      \"properties\": {\n        \"dtype\": \"number\",\n        \"std\": 0.0,\n        \"min\": 1.0,\n        \"max\": 1.0,\n        \"num_unique_values\": 1,\n        \"samples\": [\n          1.0\n        ],\n        \"semantic_type\": \"\",\n        \"description\": \"\"\n      }\n    },\n    {\n      \"column\": \"area\",\n      \"properties\": {\n        \"dtype\": \"number\",\n        \"std\": 0.9396681884725209,\n        \"min\": -1.5914685939008932,\n        \"max\": 3.712594543260859,\n        \"num_unique_values\": 85,\n        \"samples\": [\n          -0.6690228309162407\n        ],\n        \"semantic_type\": \"\",\n        \"description\": \"\"\n      }\n    },\n    {\n      \"column\": \"bedrooms\",\n      \"properties\": {\n        \"dtype\": \"number\",\n        \"std\": 0.9499337683947848,\n        \"min\": -1.308862733990682,\n        \"max\": 2.7595604030335856,\n        \"num_unique_values\": 4,\n        \"samples\": [\n          0.047278311684073836\n        ],\n        \"semantic_type\": \"\",\n        \"description\": \"\"\n      }\n    },\n    {\n      \"column\": \"bathrooms\",\n      \"properties\": {\n        \"dtype\": \"number\",\n        \"std\": 1.1709931141167869,\n        \"min\": -0.5701867118926005,\n        \"max\": 3.4138101853056977,\n        \"num_unique_values\": 3,\n        \"samples\": [\n          1.4218117367065486\n        ],\n        \"semantic_type\": \"\",\n        \"description\": \"\"\n      }\n    },\n    {\n      \"column\": \"y\",\n      \"properties\": {\n        \"dtype\": \"number\",\n        \"std\": 2258621,\n        \"min\": 1750000,\n        \"max\": 13300000,\n        \"num_unique_values\": 81,\n        \"samples\": [\n          3290000\n        ],\n        \"semantic_type\": \"\",\n        \"description\": \"\"\n      }\n    },\n    {\n      \"column\": \"prediction\",\n      \"properties\": {\n        \"dtype\": \"number\",\n        \"std\": 1289079.5962577504,\n        \"min\": 2893133.477931366,\n        \"max\": 9091535.77573356,\n        \"num_unique_values\": 103,\n        \"samples\": [\n          5366583.926196497\n        ],\n        \"semantic_type\": \"\",\n        \"description\": \"\"\n      }\n    }\n  ]\n}"
            }
          },
          "metadata": {},
          "execution_count": 23
        }
      ],
      "source": [
        "df_with_normal_predictions = df_with_predictions.drop(columns=[\"prediction\"])\n",
        "df_with_normal_predictions[\"prediction\"] = y_normal_pred\n",
        "df_with_normal_predictions.head()"
      ]
    },
    {
      "cell_type": "code",
      "execution_count": 24,
      "id": "37e23bf5-e4d8-4a76-877f-91af4a15b1f8",
      "metadata": {
        "colab": {
          "base_uri": "https://localhost:8080/",
          "height": 555
        },
        "id": "37e23bf5-e4d8-4a76-877f-91af4a15b1f8",
        "outputId": "85a57dff-487b-4765-eef6-4905efcb2022"
      },
      "outputs": [
        {
          "output_type": "execute_result",
          "data": {
            "text/plain": [
              "[<matplotlib.lines.Line2D at 0x797a69b25fc0>]"
            ]
          },
          "metadata": {},
          "execution_count": 24
        },
        {
          "output_type": "display_data",
          "data": {
            "text/plain": [
              "<Figure size 800x600 with 1 Axes>"
            ],
            "image/png": "[encoded data removed]"
          },
          "metadata": {}
        }
      ],
      "source": [
        "plt.figure(figsize=(8, 6))\n",
        "plt.scatter(df_with_normal_predictions.index, df_with_normal_predictions['y'], color='blue', label='Actual values', alpha=0.6)\n",
        "plt.plot(df_with_normal_predictions.index, df_with_normal_predictions['prediction'], color='red', label='Prediction', linewidth=2)"
      ]
    },
    {
      "cell_type": "markdown",
      "id": "aad3f665-cbe8-4c77-af75-012cb5e0ce0f",
      "metadata": {
        "id": "aad3f665-cbe8-4c77-af75-012cb5e0ce0f"
      },
      "source": [
        "## Створюємо модель за допомогою бібліотеки sklearn"
      ]
    },
    {
      "cell_type": "code",
      "execution_count": 25,
      "id": "7f2fa866-f3eb-43b3-9af2-52f45dfb696d",
      "metadata": {
        "colab": {
          "base_uri": "https://localhost:8080/"
        },
        "id": "7f2fa866-f3eb-43b3-9af2-52f45dfb696d",
        "outputId": "3965f467-137c-4dde-ef32-9d6b07ba0579"
      },
      "outputs": [
        {
          "output_type": "stream",
          "name": "stdout",
          "text": [
            "Середня квадратична помилка (MSE): 2750040479309.0522\n",
            "theta: [749023.05142651 265604.85843734 714016.44847748]\n",
            "intercept: 4736303.161529644\n"
          ]
        }
      ],
      "source": [
        "model = LinearRegression()\n",
        "X_train1 = X_train[:, 1:]\n",
        "X_test1 = X_test[:, 1:]\n",
        "model.fit(X_train1, y_train)\n",
        "y_sklearn_pred = model.predict(X_test1)\n",
        "mse = mean_squared_error(y_test, y_sklearn_pred)\n",
        "print(f\"Середня квадратична помилка (MSE): {mse}\")\n",
        "theta_sklearn = model.coef_\n",
        "intercept_sklearn = model.intercept_\n",
        "print(f\"theta: {theta_sklearn}\")\n",
        "print(f\"intercept: {intercept_sklearn}\")"
      ]
    },
    {
      "cell_type": "code",
      "execution_count": 26,
      "id": "72a2b044-f0d2-45d8-85c7-c0254f209504",
      "metadata": {
        "colab": {
          "base_uri": "https://localhost:8080/",
          "height": 423
        },
        "id": "72a2b044-f0d2-45d8-85c7-c0254f209504",
        "outputId": "baa16020-7f15-4e82-93c0-3cc982eb3619"
      },
      "outputs": [
        {
          "output_type": "execute_result",
          "data": {
            "text/plain": [
              "     intercept      area  bedrooms  bathrooms        y    prediction\n",
              "0          1.0  0.345668  1.403419   1.421812  4060000  6.383168e+06\n",
              "1          1.0  0.622401  0.047278   1.421812  6650000  6.230250e+06\n",
              "2          1.0 -0.512207 -1.308863  -0.570187  3710000  3.597885e+06\n",
              "3          1.0 -0.069433  0.047278  -0.570187  6440000  4.289731e+06\n",
              "4          1.0 -0.549105  0.047278  -0.570187  2800000  3.930446e+06\n",
              "..         ...       ...       ...        ...      ...           ...\n",
              "104        1.0  0.391790  1.403419  -0.570187  9100000  4.995395e+06\n",
              "105        1.0  0.820727  1.403419  -0.570187  3773000  5.316679e+06\n",
              "106        1.0  0.391790  1.403419   1.421812  7910000  6.417715e+06\n",
              "107        1.0  0.391790  0.047278   1.421812  7350000  6.057517e+06\n",
              "108        1.0  0.437912  0.047278   1.421812  5530000  6.092064e+06\n",
              "\n",
              "[109 rows x 6 columns]"
            ],
            "text/html": [
              "\n",
              "  <div id=\"df-5d046be9-a7d6-4cf9-9445-b294ed15a397\" class=\"colab-df-container\">\n",
              "    <div>\n",
              "<style scoped>\n",
              "    .dataframe tbody tr th:only-of-type {\n",
              "        vertical-align: middle;\n",
              "    }\n",
              "\n",
              "    .dataframe tbody tr th {\n",
              "        vertical-align: top;\n",
              "    }\n",
              "\n",
              "    .dataframe thead th {\n",
              "        text-align: right;\n",
              "    }\n",
              "</style>\n",
              "<table border=\"1\" class=\"dataframe\">\n",
              "  <thead>\n",
              "    <tr style=\"text-align: right;\">\n",
              "      <th></th>\n",
              "      <th>intercept</th>\n",
              "      <th>area</th>\n",
              "      <th>bedrooms</th>\n",
              "      <th>bathrooms</th>\n",
              "      <th>y</th>\n",
              "      <th>prediction</th>\n",
              "    </tr>\n",
              "  </thead>\n",
              "  <tbody>\n",
              "    <tr>\n",
              "      <th>0</th>\n",
              "      <td>1.0</td>\n",
              "      <td>0.345668</td>\n",
              "      <td>1.403419</td>\n",
              "      <td>1.421812</td>\n",
              "      <td>4060000</td>\n",
              "      <td>6.383168e+06</td>\n",
              "    </tr>\n",
              "    <tr>\n",
              "      <th>1</th>\n",
              "      <td>1.0</td>\n",
              "      <td>0.622401</td>\n",
              "      <td>0.047278</td>\n",
              "      <td>1.421812</td>\n",
              "      <td>6650000</td>\n",
              "      <td>6.230250e+06</td>\n",
              "    </tr>\n",
              "    <tr>\n",
              "      <th>2</th>\n",
              "      <td>1.0</td>\n",
              "      <td>-0.512207</td>\n",
              "      <td>-1.308863</td>\n",
              "      <td>-0.570187</td>\n",
              "      <td>3710000</td>\n",
              "      <td>3.597885e+06</td>\n",
              "    </tr>\n",
              "    <tr>\n",
              "      <th>3</th>\n",
              "      <td>1.0</td>\n",
              "      <td>-0.069433</td>\n",
              "      <td>0.047278</td>\n",
              "      <td>-0.570187</td>\n",
              "      <td>6440000</td>\n",
              "      <td>4.289731e+06</td>\n",
              "    </tr>\n",
              "    <tr>\n",
              "      <th>4</th>\n",
              "      <td>1.0</td>\n",
              "      <td>-0.549105</td>\n",
              "      <td>0.047278</td>\n",
              "      <td>-0.570187</td>\n",
              "      <td>2800000</td>\n",
              "      <td>3.930446e+06</td>\n",
              "    </tr>\n",
              "    <tr>\n",
              "      <th>...</th>\n",
              "      <td>...</td>\n",
              "      <td>...</td>\n",
              "      <td>...</td>\n",
              "      <td>...</td>\n",
              "      <td>...</td>\n",
              "      <td>...</td>\n",
              "    </tr>\n",
              "    <tr>\n",
              "      <th>104</th>\n",
              "      <td>1.0</td>\n",
              "      <td>0.391790</td>\n",
              "      <td>1.403419</td>\n",
              "      <td>-0.570187</td>\n",
              "      <td>9100000</td>\n",
              "      <td>4.995395e+06</td>\n",
              "    </tr>\n",
              "    <tr>\n",
              "      <th>105</th>\n",
              "      <td>1.0</td>\n",
              "      <td>0.820727</td>\n",
              "      <td>1.403419</td>\n",
              "      <td>-0.570187</td>\n",
              "      <td>3773000</td>\n",
              "      <td>5.316679e+06</td>\n",
              "    </tr>\n",
              "    <tr>\n",
              "      <th>106</th>\n",
              "      <td>1.0</td>\n",
              "      <td>0.391790</td>\n",
              "      <td>1.403419</td>\n",
              "      <td>1.421812</td>\n",
              "      <td>7910000</td>\n",
              "      <td>6.417715e+06</td>\n",
              "    </tr>\n",
              "    <tr>\n",
              "      <th>107</th>\n",
              "      <td>1.0</td>\n",
              "      <td>0.391790</td>\n",
              "      <td>0.047278</td>\n",
              "      <td>1.421812</td>\n",
              "      <td>7350000</td>\n",
              "      <td>6.057517e+06</td>\n",
              "    </tr>\n",
              "    <tr>\n",
              "      <th>108</th>\n",
              "      <td>1.0</td>\n",
              "      <td>0.437912</td>\n",
              "      <td>0.047278</td>\n",
              "      <td>1.421812</td>\n",
              "      <td>5530000</td>\n",
              "      <td>6.092064e+06</td>\n",
              "    </tr>\n",
              "  </tbody>\n",
              "</table>\n",
              "<p>109 rows × 6 columns</p>\n",
              "</div>\n",
              "    <div class=\"colab-df-buttons\">\n",
              "\n",
              "  <div class=\"colab-df-container\">\n",
              "    <button class=\"colab-df-convert\" onclick=\"convertToInteractive('df-5d046be9-a7d6-4cf9-9445-b294ed15a397')\"\n",
              "            title=\"Convert this dataframe to an interactive table.\"\n",
              "            style=\"display:none;\">\n",
              "\n",
              "  <svg xmlns=\"http://www.w3.org/2000/svg\" height=\"24px\" viewBox=\"0 -960 960 960\">\n",
              "    <path d=\"M120-120v-720h720v720H120Zm60-500h600v-160H180v160Zm220 220h160v-160H400v160Zm0 220h160v-160H400v160ZM180-400h160v-160H180v160Zm440 0h160v-160H620v160ZM180-180h160v-160H180v160Zm440 0h160v-160H620v160Z\"/>\n",
              "  </svg>\n",
              "    </button>\n",
              "\n",
              "  <style>\n",
              "    .colab-df-container {\n",
              "      display:flex;\n",
              "      gap: 12px;\n",
              "    }\n",
              "\n",
              "    .colab-df-convert {\n",
              "      background-color: #E8F0FE;\n",
              "      border: none;\n",
              "      border-radius: 50%;\n",
              "      cursor: pointer;\n",
              "      display: none;\n",
              "      fill: #1967D2;\n",
              "      height: 32px;\n",
              "      padding: 0 0 0 0;\n",
              "      width: 32px;\n",
              "    }\n",
              "\n",
              "    .colab-df-convert:hover {\n",
              "      background-color: #E2EBFA;\n",
              "      box-shadow: 0px 1px 2px rgba(60, 64, 67, 0.3), 0px 1px 3px 1px rgba(60, 64, 67, 0.15);\n",
              "      fill: #174EA6;\n",
              "    }\n",
              "\n",
              "    .colab-df-buttons div {\n",
              "      margin-bottom: 4px;\n",
              "    }\n",
              "\n",
              "    [theme=dark] .colab-df-convert {\n",
              "      background-color: #3B4455;\n",
              "      fill: #D2E3FC;\n",
              "    }\n",
              "\n",
              "    [theme=dark] .colab-df-convert:hover {\n",
              "      background-color: #434B5C;\n",
              "      box-shadow: 0px 1px 3px 1px rgba(0, 0, 0, 0.15);\n",
              "      filter: drop-shadow(0px 1px 2px rgba(0, 0, 0, 0.3));\n",
              "      fill: #FFFFFF;\n",
              "    }\n",
              "  </style>\n",
              "\n",
              "    <script>\n",
              "      const buttonEl =\n",
              "        document.querySelector('#df-5d046be9-a7d6-4cf9-9445-b294ed15a397 button.colab-df-convert');\n",
              "      buttonEl.style.display =\n",
              "        google.colab.kernel.accessAllowed ? 'block' : 'none';\n",
              "\n",
              "      async function convertToInteractive(key) {\n",
              "        const element = document.querySelector('#df-5d046be9-a7d6-4cf9-9445-b294ed15a397');\n",
              "        const dataTable =\n",
              "          await google.colab.kernel.invokeFunction('convertToInteractive',\n",
              "                                                    [key], {});\n",
              "        if (!dataTable) return;\n",
              "\n",
              "        const docLinkHtml = 'Like what you see? Visit the ' +\n",
              "          '<a target=\"_blank\" href=https://colab.research.google.com/notebooks/data_table.ipynb>data table notebook</a>'\n",
              "          + ' to learn more about interactive tables.';\n",
              "        element.innerHTML = '';\n",
              "        dataTable['output_type'] = 'display_data';\n",
              "        await google.colab.output.renderOutput(dataTable, element);\n",
              "        const docLink = document.createElement('div');\n",
              "        docLink.innerHTML = docLinkHtml;\n",
              "        element.appendChild(docLink);\n",
              "      }\n",
              "    </script>\n",
              "  </div>\n",
              "\n",
              "\n",
              "<div id=\"df-4ba5d42b-5acb-4d9a-be6c-4a1e1278bba3\">\n",
              "  <button class=\"colab-df-quickchart\" onclick=\"quickchart('df-4ba5d42b-5acb-4d9a-be6c-4a1e1278bba3')\"\n",
              "            title=\"Suggest charts\"\n",
              "            style=\"display:none;\">\n",
              "\n",
              "<svg xmlns=\"http://www.w3.org/2000/svg\" height=\"24px\"viewBox=\"0 0 24 24\"\n",
              "     width=\"24px\">\n",
              "    <g>\n",
              "        <path d=\"M19 3H5c-1.1 0-2 .9-2 2v14c0 1.1.9 2 2 2h14c1.1 0 2-.9 2-2V5c0-1.1-.9-2-2-2zM9 17H7v-7h2v7zm4 0h-2V7h2v10zm4 0h-2v-4h2v4z\"/>\n",
              "    </g>\n",
              "</svg>\n",
              "  </button>\n",
              "\n",
              "<style>\n",
              "  .colab-df-quickchart {\n",
              "      --bg-color: #E8F0FE;\n",
              "      --fill-color: #1967D2;\n",
              "      --hover-bg-color: #E2EBFA;\n",
              "      --hover-fill-color: #174EA6;\n",
              "      --disabled-fill-color: #AAA;\n",
              "      --disabled-bg-color: #DDD;\n",
              "  }\n",
              "\n",
              "  [theme=dark] .colab-df-quickchart {\n",
              "      --bg-color: #3B4455;\n",
              "      --fill-color: #D2E3FC;\n",
              "      --hover-bg-color: #434B5C;\n",
              "      --hover-fill-color: #FFFFFF;\n",
              "      --disabled-bg-color: #3B4455;\n",
              "      --disabled-fill-color: #666;\n",
              "  }\n",
              "\n",
              "  .colab-df-quickchart {\n",
              "    background-color: var(--bg-color);\n",
              "    border: none;\n",
              "    border-radius: 50%;\n",
              "    cursor: pointer;\n",
              "    display: none;\n",
              "    fill: var(--fill-color);\n",
              "    height: 32px;\n",
              "    padding: 0;\n",
              "    width: 32px;\n",
              "  }\n",
              "\n",
              "  .colab-df-quickchart:hover {\n",
              "    background-color: var(--hover-bg-color);\n",
              "    box-shadow: 0 1px 2px rgba(60, 64, 67, 0.3), 0 1px 3px 1px rgba(60, 64, 67, 0.15);\n",
              "    fill: var(--button-hover-fill-color);\n",
              "  }\n",
              "\n",
              "  .colab-df-quickchart-complete:disabled,\n",
              "  .colab-df-quickchart-complete:disabled:hover {\n",
              "    background-color: var(--disabled-bg-color);\n",
              "    fill: var(--disabled-fill-color);\n",
              "    box-shadow: none;\n",
              "  }\n",
              "\n",
              "  .colab-df-spinner {\n",
              "    border: 2px solid var(--fill-color);\n",
              "    border-color: transparent;\n",
              "    border-bottom-color: var(--fill-color);\n",
              "    animation:\n",
              "      spin 1s steps(1) infinite;\n",
              "  }\n",
              "\n",
              "  @keyframes spin {\n",
              "    0% {\n",
              "      border-color: transparent;\n",
              "      border-bottom-color: var(--fill-color);\n",
              "      border-left-color: var(--fill-color);\n",
              "    }\n",
              "    20% {\n",
              "      border-color: transparent;\n",
              "      border-left-color: var(--fill-color);\n",
              "      border-top-color: var(--fill-color);\n",
              "    }\n",
              "    30% {\n",
              "      border-color: transparent;\n",
              "      border-left-color: var(--fill-color);\n",
              "      border-top-color: var(--fill-color);\n",
              "      border-right-color: var(--fill-color);\n",
              "    }\n",
              "    40% {\n",
              "      border-color: transparent;\n",
              "      border-right-color: var(--fill-color);\n",
              "      border-top-color: var(--fill-color);\n",
              "    }\n",
              "    60% {\n",
              "      border-color: transparent;\n",
              "      border-right-color: var(--fill-color);\n",
              "    }\n",
              "    80% {\n",
              "      border-color: transparent;\n",
              "      border-right-color: var(--fill-color);\n",
              "      border-bottom-color: var(--fill-color);\n",
              "    }\n",
              "    90% {\n",
              "      border-color: transparent;\n",
              "      border-bottom-color: var(--fill-color);\n",
              "    }\n",
              "  }\n",
              "</style>\n",
              "\n",
              "  <script>\n",
              "    async function quickchart(key) {\n",
              "      const quickchartButtonEl =\n",
              "        document.querySelector('#' + key + ' button');\n",
              "      quickchartButtonEl.disabled = true;  // To prevent multiple clicks.\n",
              "      quickchartButtonEl.classList.add('colab-df-spinner');\n",
              "      try {\n",
              "        const charts = await google.colab.kernel.invokeFunction(\n",
              "            'suggestCharts', [key], {});\n",
              "      } catch (error) {\n",
              "        console.error('Error during call to suggestCharts:', error);\n",
              "      }\n",
              "      quickchartButtonEl.classList.remove('colab-df-spinner');\n",
              "      quickchartButtonEl.classList.add('colab-df-quickchart-complete');\n",
              "    }\n",
              "    (() => {\n",
              "      let quickchartButtonEl =\n",
              "        document.querySelector('#df-4ba5d42b-5acb-4d9a-be6c-4a1e1278bba3 button');\n",
              "      quickchartButtonEl.style.display =\n",
              "        google.colab.kernel.accessAllowed ? 'block' : 'none';\n",
              "    })();\n",
              "  </script>\n",
              "</div>\n",
              "    </div>\n",
              "  </div>\n"
            ],
            "application/vnd.google.colaboratory.intrinsic+json": {
              "type": "dataframe",
              "variable_name": "df_with_sklearn_predictions",
              "summary": "{\n  \"name\": \"df_with_sklearn_predictions\",\n  \"rows\": 109,\n  \"fields\": [\n    {\n      \"column\": \"intercept\",\n      \"properties\": {\n        \"dtype\": \"number\",\n        \"std\": 0.0,\n        \"min\": 1.0,\n        \"max\": 1.0,\n        \"num_unique_values\": 1,\n        \"samples\": [\n          1.0\n        ],\n        \"semantic_type\": \"\",\n        \"description\": \"\"\n      }\n    },\n    {\n      \"column\": \"area\",\n      \"properties\": {\n        \"dtype\": \"number\",\n        \"std\": 0.9396681884725209,\n        \"min\": -1.5914685939008932,\n        \"max\": 3.712594543260859,\n        \"num_unique_values\": 85,\n        \"samples\": [\n          -0.6690228309162407\n        ],\n        \"semantic_type\": \"\",\n        \"description\": \"\"\n      }\n    },\n    {\n      \"column\": \"bedrooms\",\n      \"properties\": {\n        \"dtype\": \"number\",\n        \"std\": 0.9499337683947848,\n        \"min\": -1.308862733990682,\n        \"max\": 2.7595604030335856,\n        \"num_unique_values\": 4,\n        \"samples\": [\n          0.047278311684073836\n        ],\n        \"semantic_type\": \"\",\n        \"description\": \"\"\n      }\n    },\n    {\n      \"column\": \"bathrooms\",\n      \"properties\": {\n        \"dtype\": \"number\",\n        \"std\": 1.1709931141167869,\n        \"min\": -0.5701867118926005,\n        \"max\": 3.4138101853056977,\n        \"num_unique_values\": 3,\n        \"samples\": [\n          1.4218117367065486\n        ],\n        \"semantic_type\": \"\",\n        \"description\": \"\"\n      }\n    },\n    {\n      \"column\": \"y\",\n      \"properties\": {\n        \"dtype\": \"number\",\n        \"std\": 2258621,\n        \"min\": 1750000,\n        \"max\": 13300000,\n        \"num_unique_values\": 81,\n        \"samples\": [\n          3290000\n        ],\n        \"semantic_type\": \"\",\n        \"description\": \"\"\n      }\n    },\n    {\n      \"column\": \"prediction\",\n      \"properties\": {\n        \"dtype\": \"number\",\n        \"std\": 1289079.5962577523,\n        \"min\": 2893133.477931365,\n        \"max\": 9091535.77573357,\n        \"num_unique_values\": 103,\n        \"samples\": [\n          5366583.9261965025\n        ],\n        \"semantic_type\": \"\",\n        \"description\": \"\"\n      }\n    }\n  ]\n}"
            }
          },
          "metadata": {},
          "execution_count": 26
        }
      ],
      "source": [
        "df_with_sklearn_predictions = df_with_predictions.drop(columns=[\"prediction\"])\n",
        "df_with_sklearn_predictions[\"prediction\"] = y_sklearn_pred\n",
        "df_with_sklearn_predictions"
      ]
    },
    {
      "cell_type": "code",
      "execution_count": 27,
      "id": "7bef14e6-a29a-403f-b7f3-e7ce6672c7d2",
      "metadata": {
        "colab": {
          "base_uri": "https://localhost:8080/",
          "height": 555
        },
        "id": "7bef14e6-a29a-403f-b7f3-e7ce6672c7d2",
        "outputId": "174923ec-8aa7-4010-ce1d-d561522fa1a7"
      },
      "outputs": [
        {
          "output_type": "execute_result",
          "data": {
            "text/plain": [
              "[<matplotlib.lines.Line2D at 0x797a6a18a3b0>]"
            ]
          },
          "metadata": {},
          "execution_count": 27
        },
        {
          "output_type": "display_data",
          "data": {
            "text/plain": [
              "<Figure size 800x600 with 1 Axes>"
            ],
            "image/png": "[encoded data removed]"
          },
          "metadata": {}
        }
      ],
      "source": [
        "plt.figure(figsize=(8, 6))\n",
        "plt.scatter(df_with_sklearn_predictions.index, df_with_sklearn_predictions['y'], color='blue', label='Actual values', alpha=0.6)\n",
        "plt.plot(df_with_sklearn_predictions.index, df_with_sklearn_predictions['prediction'], color='red', label='Prediction', linewidth=2)"
      ]
    },
    {
      "cell_type": "markdown",
      "id": "79385eea-2bff-4d5a-beed-86a2f8f2eaac",
      "metadata": {
        "id": "79385eea-2bff-4d5a-beed-86a2f8f2eaac"
      },
      "source": [
        "## Порівнюємо відхилення кожної моделі"
      ]
    },
    {
      "cell_type": "code",
      "execution_count": 28,
      "id": "44a0c988-b300-46a0-850b-af364f517b21",
      "metadata": {
        "colab": {
          "base_uri": "https://localhost:8080/",
          "height": 555
        },
        "id": "44a0c988-b300-46a0-850b-af364f517b21",
        "outputId": "46b2af94-8da1-4ce1-ba69-57155d14273d"
      },
      "outputs": [
        {
          "output_type": "execute_result",
          "data": {
            "text/plain": [
              "<matplotlib.legend.Legend at 0x797a69a393c0>"
            ]
          },
          "metadata": {},
          "execution_count": 28
        },
        {
          "output_type": "display_data",
          "data": {
            "text/plain": [
              "<Figure size 800x600 with 1 Axes>"
            ],
            "image/png": "[encoded data removed]"
          },
          "metadata": {}
        }
      ],
      "source": [
        "plt.figure(figsize=(8, 6))\n",
        "plt.scatter(df_with_sklearn_predictions.index, df_with_sklearn_predictions['y'], color='blue', label='actual values', alpha=0.6)\n",
        "plt.plot(df_with_normal_predictions.index, df_with_normal_predictions['prediction'], color='yellow', label='normal equation prediction', linewidth=2)\n",
        "plt.plot(df_with_sklearn_predictions.index, df_with_sklearn_predictions['prediction'], color='green', label='sklearn prediction', linewidth=2)\n",
        "plt.plot(df_with_predictions.index, df_with_predictions['prediction'], color='red', label='gradient descent prediction', linewidth=2)\n",
        "plt.legend()"
      ]
    },
    {
      "cell_type": "markdown",
      "id": "5eadb510-c40f-4365-bf39-4e184cd3e334",
      "metadata": {
        "id": "5eadb510-c40f-4365-bf39-4e184cd3e334"
      },
      "source": [
        "## Для перевірки спрогнозованих значень, використаємо LinearRegression з бібліотеки scikit-learn та порівняємо результати"
      ]
    },
    {
      "cell_type": "code",
      "execution_count": 29,
      "id": "91b969f9-eda8-4ba0-8f88-d1299b015ed7",
      "metadata": {
        "colab": {
          "base_uri": "https://localhost:8080/"
        },
        "id": "91b969f9-eda8-4ba0-8f88-d1299b015ed7",
        "outputId": "5e90ca1b-d5f6-4046-b198-3645aa6c968f"
      },
      "outputs": [
        {
          "output_type": "stream",
          "name": "stdout",
          "text": [
            "Параметри theta (перший індекс = зсув):\n",
            "Градієнтний спуск: [4663129.77281183  749741.97208073  295136.75966737  671425.59534973]\n",
            "Нормальне рівняння: [4736303.16152964  749023.05142651  265604.85843734  714016.44847748]\n",
            "Scikit-learn: [4736303.16152964  749023.05142651  265604.85843734  714016.44847748]\n",
            "\n",
            "Середньоквадратичні помилки:\n",
            "Градієнтний спуск: 1386327957615.3398\n",
            "Нормальне рівняння: 1375020239654.5261\n",
            "Scikit-learn: 2750040479309.0522\n"
          ]
        }
      ],
      "source": [
        "print(\"Параметри theta (перший індекс = зсув):\")\n",
        "print(f\"Градієнтний спуск: {theta}\")\n",
        "print(f\"Нормальне рівняння: {theta_normal}\")\n",
        "print(f\"Scikit-learn: {np.insert(theta_sklearn, 0, intercept_sklearn)}\")\n",
        "print()\n",
        "print(\"Середньоквадратичні помилки:\")\n",
        "print(f\"Градієнтний спуск: {cost}\")\n",
        "print(f\"Нормальне рівняння: {cost_normal}\")\n",
        "print(f\"Scikit-learn: {mse}\")"
      ]
    },
    {
      "cell_type": "markdown",
      "source": [
        "## Висновки:\n",
        "## Отже, ми отримали наступні результати:\n",
        "\n",
        "\n",
        "1.   Функція градієнтного спуску має середньоквадратичну помилку - 1386327957615.3398\n",
        "2.   Нормальне рівняння має середньоквадратичну помилку - 1375020239654.5261\n",
        "3.   Лінійна регресія від Scikit-Learn має середньоквадратичну помилку - 2750040479309.0522\n",
        "\n",
        "## А значить, що побудована модель лінійної регресії показала найкращий результат передбачень у другому способі, (з використанням функції нормального рівняння) адже середньоквадратична помилка там найменша. У випадку з третім способом, (модель від Scikit-Learn) ця модель показала найгірший результат, бо помилка більша у два рази.\n",
        "\n",
        "\n"
      ],
      "metadata": {
        "id": "HogeJ7xzF248"
      },
      "id": "HogeJ7xzF248"
    }
  ],
  "metadata": {
    "kernelspec": {
      "display_name": "Python 3 (ipykernel)",
      "language": "python",
      "name": "python3"
    },
    "language_info": {
      "codemirror_mode": {
        "name": "ipython",
        "version": 3
      },
      "file_extension": ".py",
      "mimetype": "text/x-python",
      "name": "python",
      "nbconvert_exporter": "python",
      "pygments_lexer": "ipython3",
      "version": "3.12.4"
    },
    "colab": {
      "provenance": []
    }
  },
  "nbformat": 4,
  "nbformat_minor": 5
}
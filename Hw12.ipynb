{
  "nbformat": 4,
  "nbformat_minor": 0,
  "metadata": {
    "colab": {
      "provenance": []
    },
    "kernelspec": {
      "name": "python3",
      "display_name": "Python 3"
    },
    "language_info": {
      "name": "python"
    }
  },
  "cells": [
    {
      "cell_type": "code",
      "execution_count": 35,
      "metadata": {
        "id": "Cre2J5UYYdSF"
      },
      "outputs": [],
      "source": [
        "import nltk\n",
        "from nltk.corpus import stopwords\n",
        "from nltk.tokenize import word_tokenize, sent_tokenize\n",
        "from nltk.stem import WordNetLemmatizer\n",
        "from collections import Counter\n",
        "from heapq import nlargest"
      ]
    },
    {
      "cell_type": "markdown",
      "source": [
        "## Завантаження ресурсів для токенізації, стоп слів та лематизації"
      ],
      "metadata": {
        "id": "fBHotZpRoDvU"
      }
    },
    {
      "cell_type": "code",
      "source": [
        "nltk.download(\"punkt_tab\")\n",
        "nltk.download(\"stopwords\")\n",
        "nltk.download(\"wordnet\")"
      ],
      "metadata": {
        "colab": {
          "base_uri": "https://localhost:8080/"
        },
        "id": "ne0cZhyIYk87",
        "outputId": "fa7d8a46-7235-498c-e23d-9c5a11a60e18"
      },
      "execution_count": 15,
      "outputs": [
        {
          "output_type": "stream",
          "name": "stderr",
          "text": [
            "[nltk_data] Downloading package punkt_tab to /root/nltk_data...\n",
            "[nltk_data]   Unzipping tokenizers/punkt_tab.zip.\n",
            "[nltk_data] Downloading package stopwords to /root/nltk_data...\n",
            "[nltk_data]   Package stopwords is already up-to-date!\n",
            "[nltk_data] Downloading package wordnet to /root/nltk_data...\n",
            "[nltk_data]   Package wordnet is already up-to-date!\n"
          ]
        },
        {
          "output_type": "execute_result",
          "data": {
            "text/plain": [
              "True"
            ]
          },
          "metadata": {},
          "execution_count": 15
        }
      ]
    },
    {
      "cell_type": "markdown",
      "source": [
        "## Імпортуємо текст"
      ],
      "metadata": {
        "id": "shXRbWbBoVfj"
      }
    },
    {
      "cell_type": "code",
      "source": [
        "text = \"The Orbiter Discovery, OV-103, is considered eligible for listing in the National Register of Historic Places (NRHP) in the context of the U.S. Space Shuttle Program (1969-2011) under Criterion A in the areas of Space Exploration and Transportation and under Criterion C in the area of Engineering. Because it has achieved significance within the past fifty years, Criteria Consideration G applies. Under Criterion A, Discovery is significant as the oldest of the three extant orbiter vehicles constructed for the Space Shuttle Program (SSP), the longest running American space program to date; she was the third of five orbiters built by NASA. Unlike the Mercury, Gemini, and Apollo programs, the SSP’s emphasis was on cost effectiveness and reusability, and eventually the construction of a space station. Including her maiden voyage (launched August 30, 1984), Discovery flew to space thirty-nine times, more than any of the other four orbiters; she was also the first orbiter to fly twenty missions. She had the honor of being chosen as the Return to Flight vehicle after both the Challenger and Columbia accidents. Discovery was the first shuttle to fly with the redesigned SRBs, a result of the Challenger accident, and the first shuttle to fly with the Phase II and Block I SSME. Discovery also carried the Hubble Space Telescope to orbit and performed two of the five servicing missions to the observatory. She flew the first and last dedicated Department of Defense (DoD) missions, as well as the first unclassified defense-related mission. In addition, Discovery was vital to the construction of the International Space Station (ISS); she flew thirteen of the thirty-seven total missions flown to the station by a U.S. Space Shuttle. She was the first orbiter to dock to the ISS, and the first to perform an exchange of a resident crew. Under Criterion C, Discovery is significant as a feat of engineering. According to Wayne Hale, a flight director from Johnson Space Center, the Space Shuttle orbiter represents a “huge technological leap from expendable rockets and capsules to a reusable, winged, hypersonic, cargo-carrying spacecraft.” Although her base structure followed a conventional aircraft design, she used advanced materials that both minimized her weight for cargo-carrying purposes and featured low thermal expansion ratios, which provided a stable base for her Thermal Protection System (TPS) materials. The Space Shuttle orbiter also featured the first reusable TPS; all previous spaceflight vehicles had a single-use, ablative heat shield. Other notable engineering achievements of the orbiter included the first reusable orbital propulsion system, and the first two-fault-tolerant Integrated Avionics System. As Hale stated, the Space Shuttle remains “the largest, fastest, winged hypersonic aircraft in history,” having regularly flown at twenty-five times the speed of sound.\""
      ],
      "metadata": {
        "id": "ugS0SSLOawVF"
      },
      "execution_count": 48,
      "outputs": []
    },
    {
      "cell_type": "markdown",
      "source": [
        "## Токенізуємо текст на слова та речення"
      ],
      "metadata": {
        "id": "yS656gJdoX2j"
      }
    },
    {
      "cell_type": "code",
      "source": [
        "words = word_tokenize(text.lower())\n",
        "sentences = sent_tokenize(text)\n",
        "stop_words = set(stopwords.words('english'))"
      ],
      "metadata": {
        "id": "9yA3JX78bzMa"
      },
      "execution_count": 49,
      "outputs": []
    },
    {
      "cell_type": "markdown",
      "source": [
        "## Видаляємо стоп слова"
      ],
      "metadata": {
        "id": "0HzPQN2DofaE"
      }
    },
    {
      "cell_type": "code",
      "source": [
        "words = [word for word in words if word.lower() not in stop_words]"
      ],
      "metadata": {
        "id": "9lVBnP6Re7NW"
      },
      "execution_count": 50,
      "outputs": []
    },
    {
      "cell_type": "markdown",
      "source": [
        "## Видаляємо пунктуаційні знаки"
      ],
      "metadata": {
        "id": "gzqGbXXWohZd"
      }
    },
    {
      "cell_type": "code",
      "source": [
        "words = [word for word in words if word.isalpha()]"
      ],
      "metadata": {
        "id": "FKitqgxvfTTQ"
      },
      "execution_count": 51,
      "outputs": []
    },
    {
      "cell_type": "markdown",
      "source": [
        "## Лематизуємо токени"
      ],
      "metadata": {
        "id": "6iBlFLTRomrT"
      }
    },
    {
      "cell_type": "code",
      "source": [
        "lemmatizer = WordNetLemmatizer()\n",
        "words = [lemmatizer.lemmatize(word) for word in words]"
      ],
      "metadata": {
        "id": "u_TaC4M8fXhh"
      },
      "execution_count": 52,
      "outputs": []
    },
    {
      "cell_type": "markdown",
      "source": [
        "## Вираховуємо частоту кожного токена"
      ],
      "metadata": {
        "id": "ep_pgBfXooqk"
      }
    },
    {
      "cell_type": "code",
      "source": [
        "word_frequencies = Counter(words)"
      ],
      "metadata": {
        "id": "24T_mDqxflZ_"
      },
      "execution_count": 53,
      "outputs": []
    },
    {
      "cell_type": "markdown",
      "source": [
        "## Розглянемо відсортований словник частоти слів, де ключ - це слово, а значення - його частота"
      ],
      "metadata": {
        "id": "tSN49mpIotRs"
      }
    },
    {
      "cell_type": "code",
      "source": [
        "sorted(word_frequencies.items(), key=lambda x: x[1], reverse=True)"
      ],
      "metadata": {
        "colab": {
          "base_uri": "https://localhost:8080/"
        },
        "id": "7kygqO3tfmkk",
        "outputId": "24fad296-8d3c-41ec-9b61-7b0e5bfca3eb"
      },
      "execution_count": 54,
      "outputs": [
        {
          "output_type": "execute_result",
          "data": {
            "text/plain": [
              "[('space', 13),\n",
              " ('first', 10),\n",
              " ('orbiter', 9),\n",
              " ('shuttle', 8),\n",
              " ('discovery', 7),\n",
              " ('criterion', 5),\n",
              " ('mission', 5),\n",
              " ('program', 4),\n",
              " ('engineering', 3),\n",
              " ('vehicle', 3),\n",
              " ('station', 3),\n",
              " ('flew', 3),\n",
              " ('also', 3),\n",
              " ('fly', 3),\n",
              " ('reusable', 3),\n",
              " ('system', 3),\n",
              " ('area', 2),\n",
              " ('c', 2),\n",
              " ('significant', 2),\n",
              " ('ssp', 2),\n",
              " ('five', 2),\n",
              " ('construction', 2),\n",
              " ('time', 2),\n",
              " ('flight', 2),\n",
              " ('challenger', 2),\n",
              " ('accident', 2),\n",
              " ('iss', 2),\n",
              " ('flown', 2),\n",
              " ('hale', 2),\n",
              " ('winged', 2),\n",
              " ('hypersonic', 2),\n",
              " ('base', 2),\n",
              " ('aircraft', 2),\n",
              " ('material', 2),\n",
              " ('featured', 2),\n",
              " ('thermal', 2),\n",
              " ('tps', 2),\n",
              " ('considered', 1),\n",
              " ('eligible', 1),\n",
              " ('listing', 1),\n",
              " ('national', 1),\n",
              " ('register', 1),\n",
              " ('historic', 1),\n",
              " ('place', 1),\n",
              " ('nrhp', 1),\n",
              " ('context', 1),\n",
              " ('exploration', 1),\n",
              " ('transportation', 1),\n",
              " ('achieved', 1),\n",
              " ('significance', 1),\n",
              " ('within', 1),\n",
              " ('past', 1),\n",
              " ('fifty', 1),\n",
              " ('year', 1),\n",
              " ('consideration', 1),\n",
              " ('g', 1),\n",
              " ('applies', 1),\n",
              " ('oldest', 1),\n",
              " ('three', 1),\n",
              " ('extant', 1),\n",
              " ('constructed', 1),\n",
              " ('longest', 1),\n",
              " ('running', 1),\n",
              " ('american', 1),\n",
              " ('date', 1),\n",
              " ('third', 1),\n",
              " ('built', 1),\n",
              " ('nasa', 1),\n",
              " ('unlike', 1),\n",
              " ('mercury', 1),\n",
              " ('gemini', 1),\n",
              " ('apollo', 1),\n",
              " ('emphasis', 1),\n",
              " ('cost', 1),\n",
              " ('effectiveness', 1),\n",
              " ('reusability', 1),\n",
              " ('eventually', 1),\n",
              " ('including', 1),\n",
              " ('maiden', 1),\n",
              " ('voyage', 1),\n",
              " ('launched', 1),\n",
              " ('august', 1),\n",
              " ('four', 1),\n",
              " ('twenty', 1),\n",
              " ('honor', 1),\n",
              " ('chosen', 1),\n",
              " ('return', 1),\n",
              " ('columbia', 1),\n",
              " ('redesigned', 1),\n",
              " ('srbs', 1),\n",
              " ('result', 1),\n",
              " ('phase', 1),\n",
              " ('ii', 1),\n",
              " ('block', 1),\n",
              " ('ssme', 1),\n",
              " ('carried', 1),\n",
              " ('hubble', 1),\n",
              " ('telescope', 1),\n",
              " ('orbit', 1),\n",
              " ('performed', 1),\n",
              " ('two', 1),\n",
              " ('servicing', 1),\n",
              " ('observatory', 1),\n",
              " ('last', 1),\n",
              " ('dedicated', 1),\n",
              " ('department', 1),\n",
              " ('defense', 1),\n",
              " ('dod', 1),\n",
              " ('well', 1),\n",
              " ('unclassified', 1),\n",
              " ('addition', 1),\n",
              " ('vital', 1),\n",
              " ('international', 1),\n",
              " ('thirteen', 1),\n",
              " ('total', 1),\n",
              " ('dock', 1),\n",
              " ('perform', 1),\n",
              " ('exchange', 1),\n",
              " ('resident', 1),\n",
              " ('crew', 1),\n",
              " ('feat', 1),\n",
              " ('according', 1),\n",
              " ('wayne', 1),\n",
              " ('director', 1),\n",
              " ('johnson', 1),\n",
              " ('center', 1),\n",
              " ('represents', 1),\n",
              " ('huge', 1),\n",
              " ('technological', 1),\n",
              " ('leap', 1),\n",
              " ('expendable', 1),\n",
              " ('rocket', 1),\n",
              " ('capsule', 1),\n",
              " ('although', 1),\n",
              " ('structure', 1),\n",
              " ('followed', 1),\n",
              " ('conventional', 1),\n",
              " ('design', 1),\n",
              " ('used', 1),\n",
              " ('advanced', 1),\n",
              " ('minimized', 1),\n",
              " ('weight', 1),\n",
              " ('purpose', 1),\n",
              " ('low', 1),\n",
              " ('expansion', 1),\n",
              " ('ratio', 1),\n",
              " ('provided', 1),\n",
              " ('stable', 1),\n",
              " ('protection', 1),\n",
              " ('previous', 1),\n",
              " ('spaceflight', 1),\n",
              " ('ablative', 1),\n",
              " ('heat', 1),\n",
              " ('shield', 1),\n",
              " ('notable', 1),\n",
              " ('achievement', 1),\n",
              " ('included', 1),\n",
              " ('orbital', 1),\n",
              " ('propulsion', 1),\n",
              " ('integrated', 1),\n",
              " ('avionics', 1),\n",
              " ('stated', 1),\n",
              " ('remains', 1),\n",
              " ('largest', 1),\n",
              " ('fastest', 1),\n",
              " ('history', 1),\n",
              " ('regularly', 1),\n",
              " ('speed', 1),\n",
              " ('sound', 1)]"
            ]
          },
          "metadata": {},
          "execution_count": 54
        }
      ]
    },
    {
      "cell_type": "markdown",
      "source": [
        "## Бачимо, що за частотою найбільш вагомі наступні три слова є:\n",
        "- ('space', 13),\n",
        "- ('first', 10),\n",
        "- ('orbiter', 9),\n"
      ],
      "metadata": {
        "id": "Y0aHt45uo4_T"
      }
    },
    {
      "cell_type": "markdown",
      "source": [
        "## Розрахуємо ваги речень"
      ],
      "metadata": {
        "id": "ZdmSY3UbpOgU"
      }
    },
    {
      "cell_type": "code",
      "source": [
        "sentence_scores = {}\n",
        "\n",
        "for sentence in sentences:\n",
        "    sentence_words = word_tokenize(sentence.lower())\n",
        "    sentence_score = 0\n",
        "\n",
        "    for word in sentence_words:\n",
        "        if word in word_frequencies:\n",
        "            sentence_score += word_frequencies[word]\n",
        "\n",
        "    if len(sentence_words) > 2:\n",
        "        sentence_scores[sentence] = sentence_score"
      ],
      "metadata": {
        "id": "0c43GuwlhH6F"
      },
      "execution_count": 55,
      "outputs": []
    },
    {
      "cell_type": "markdown",
      "source": [
        "## Знайдемо summary"
      ],
      "metadata": {
        "id": "ZuDWO70ZpXhW"
      }
    },
    {
      "cell_type": "code",
      "source": [
        "select_length = int(len(sentences))\n",
        "summary = nlargest(select_length, sentence_scores, key = sentence_scores.get)\n",
        "summary"
      ],
      "metadata": {
        "colab": {
          "base_uri": "https://localhost:8080/"
        },
        "id": "WbfdAj4Ekmoi",
        "outputId": "99e03f11-ae47-44df-9be1-fcd766550264"
      },
      "execution_count": 56,
      "outputs": [
        {
          "output_type": "execute_result",
          "data": {
            "text/plain": [
              "['According to Wayne Hale, a flight director from Johnson Space Center, the Space Shuttle orbiter represents a “huge technological leap from expendable rockets and capsules to a reusable, winged, hypersonic, cargo-carrying spacecraft.” Although her base structure followed a conventional aircraft design, she used advanced materials that both minimized her weight for cargo-carrying purposes and featured low thermal expansion ratios, which provided a stable base for her Thermal Protection System (TPS) materials.',\n",
              " 'The Orbiter Discovery, OV-103, is considered eligible for listing in the National Register of Historic Places (NRHP) in the context of the U.S. Space Shuttle Program (1969-2011) under Criterion A in the areas of Space Exploration and Transportation and under Criterion C in the area of Engineering.',\n",
              " 'Under Criterion A, Discovery is significant as the oldest of the three extant orbiter vehicles constructed for the Space Shuttle Program (SSP), the longest running American space program to date; she was the third of five orbiters built by NASA.',\n",
              " 'In addition, Discovery was vital to the construction of the International Space Station (ISS); she flew thirteen of the thirty-seven total missions flown to the station by a U.S. Space Shuttle.',\n",
              " 'Discovery was the first shuttle to fly with the redesigned SRBs, a result of the Challenger accident, and the first shuttle to fly with the Phase II and Block I SSME.',\n",
              " 'Including her maiden voyage (launched August 30, 1984), Discovery flew to space thirty-nine times, more than any of the other four orbiters; she was also the first orbiter to fly twenty missions.',\n",
              " 'The Space Shuttle orbiter also featured the first reusable TPS; all previous spaceflight vehicles had a single-use, ablative heat shield.',\n",
              " 'Other notable engineering achievements of the orbiter included the first reusable orbital propulsion system, and the first two-fault-tolerant Integrated Avionics System.',\n",
              " 'As Hale stated, the Space Shuttle remains “the largest, fastest, winged hypersonic aircraft in history,” having regularly flown at twenty-five times the speed of sound.',\n",
              " 'She was the first orbiter to dock to the ISS, and the first to perform an exchange of a resident crew.',\n",
              " 'She flew the first and last dedicated Department of Defense (DoD) missions, as well as the first unclassified defense-related mission.',\n",
              " 'Discovery also carried the Hubble Space Telescope to orbit and performed two of the five servicing missions to the observatory.',\n",
              " 'Unlike the Mercury, Gemini, and Apollo programs, the SSP’s emphasis was on cost effectiveness and reusability, and eventually the construction of a space station.',\n",
              " 'Under Criterion C, Discovery is significant as a feat of engineering.',\n",
              " 'She had the honor of being chosen as the Return to Flight vehicle after both the Challenger and Columbia accidents.',\n",
              " 'Because it has achieved significance within the past fifty years, Criteria Consideration G applies.']"
            ]
          },
          "metadata": {},
          "execution_count": 56
        }
      ]
    },
    {
      "cell_type": "markdown",
      "source": [
        "## Висновок:\n",
        "## Найбільш значущим реченням було: \"According to Wayne Hale, a flight director from Johnson Space Center, the Space Shuttle orbiter represents a “huge technological leap from expendable rockets and capsules to a reusable, winged, hypersonic, cargo-carrying spacecraft.” Although her base structure followed a conventional aircraft design, she used advanced materials that both minimized her weight for cargo-carrying purposes and featured low thermal expansion ratios, which provided a stable base for her Thermal Protection System (TPS) materials.\", так як в ньому знаходяться найчастіше вживані слова з усього тексту (наприклад space, orbiter, shuttle)\n",
        "## Найменш значущим стало речення: \"Because it has achieved significance within the past fifty years, Criteria Consideration G applies.\", тому що в ньому можна побачити найменш частіші слова, які зустрічаються у всьому тексті."
      ],
      "metadata": {
        "id": "fJ3GqnXKmKWm"
      }
    }
  ]
}